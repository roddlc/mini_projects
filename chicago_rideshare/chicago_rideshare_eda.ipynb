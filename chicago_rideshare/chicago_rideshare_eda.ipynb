{
 "cells": [
  {
   "cell_type": "markdown",
   "metadata": {},
   "source": [
    "# Chicago Rideshare Exploratory Data Analysis (EDA) - November 2018 Data"
   ]
  },
  {
   "cell_type": "markdown",
   "metadata": {},
   "source": [
    "The following script performs EDA on Chicago rideshare data collected for November 2018. The first five rows of the dataset are displayed in the second code cell below, but additional information on the data can be found at the [Chicago open data site](https://data.cityofchicago.org/Transportation/Transportation-Network-Providers-Trips/m6dm-c72p) from which the data was pulled."
   ]
  },
  {
   "cell_type": "markdown",
   "metadata": {},
   "source": [
    "## Packages, settings, and file import"
   ]
  },
  {
   "cell_type": "code",
   "execution_count": 1,
   "metadata": {
    "collapsed": true
   },
   "outputs": [],
   "source": [
    "# packages\n",
    "import pandas as pd\n",
    "import numpy as np\n",
    "import matplotlib.pyplot as plt\n",
    "import matplotlib.ticker as tkr\n",
    "import os\n",
    "from datetime import datetime\n",
    "import requests, json\n",
    "\n",
    "# display all columns and rows\n",
    "pd.set_option('display.max_columns', None)\n",
    "pd.set_option('display.max_rows', None)\n",
    "\n",
    "# display plots in ipynb\n",
    "%matplotlib inline"
   ]
  },
  {
   "cell_type": "code",
   "execution_count": 2,
   "metadata": {
    "collapsed": false
   },
   "outputs": [
    {
     "data": {
      "text/html": [
       "<div>\n",
       "<style scoped>\n",
       "    .dataframe tbody tr th:only-of-type {\n",
       "        vertical-align: middle;\n",
       "    }\n",
       "\n",
       "    .dataframe tbody tr th {\n",
       "        vertical-align: top;\n",
       "    }\n",
       "\n",
       "    .dataframe thead th {\n",
       "        text-align: right;\n",
       "    }\n",
       "</style>\n",
       "<table border=\"1\" class=\"dataframe\">\n",
       "  <thead>\n",
       "    <tr style=\"text-align: right;\">\n",
       "      <th></th>\n",
       "      <th>additional_charges</th>\n",
       "      <th>dropoff_census_tract</th>\n",
       "      <th>dropoff_centroid_latitude</th>\n",
       "      <th>dropoff_centroid_longitude</th>\n",
       "      <th>dropoff_community_area</th>\n",
       "      <th>fare</th>\n",
       "      <th>pickup_census_tract</th>\n",
       "      <th>pickup_centroid_latitude</th>\n",
       "      <th>pickup_centroid_longitude</th>\n",
       "      <th>pickup_community_area</th>\n",
       "      <th>shared_trip_authorized</th>\n",
       "      <th>tip</th>\n",
       "      <th>trip_end_timestamp</th>\n",
       "      <th>trip_id</th>\n",
       "      <th>trip_miles</th>\n",
       "      <th>trip_seconds</th>\n",
       "      <th>trip_start_timestamp</th>\n",
       "      <th>trip_total</th>\n",
       "      <th>trips_pooled</th>\n",
       "      <th>trip_start_day_of_week</th>\n",
       "      <th>trip_start_hour_of_day</th>\n",
       "    </tr>\n",
       "  </thead>\n",
       "  <tbody>\n",
       "    <tr>\n",
       "      <th>0</th>\n",
       "      <td>2.5</td>\n",
       "      <td>NaN</td>\n",
       "      <td>41.975171</td>\n",
       "      <td>-87.687516</td>\n",
       "      <td>4.0</td>\n",
       "      <td>12.5</td>\n",
       "      <td>NaN</td>\n",
       "      <td>41.878866</td>\n",
       "      <td>-87.625192</td>\n",
       "      <td>32.0</td>\n",
       "      <td>False</td>\n",
       "      <td>0</td>\n",
       "      <td>2018-11-01 00:15:00</td>\n",
       "      <td>24c52d835a2de9427ab30fe68ba09806d6f230b2</td>\n",
       "      <td>8.674069</td>\n",
       "      <td>973.0</td>\n",
       "      <td>2018-11-01 00:00:00</td>\n",
       "      <td>15.0</td>\n",
       "      <td>1</td>\n",
       "      <td>Thursday</td>\n",
       "      <td>0</td>\n",
       "    </tr>\n",
       "    <tr>\n",
       "      <th>1</th>\n",
       "      <td>0.0</td>\n",
       "      <td>1.703108e+10</td>\n",
       "      <td>41.898332</td>\n",
       "      <td>-87.620763</td>\n",
       "      <td>8.0</td>\n",
       "      <td>5.0</td>\n",
       "      <td>1.703108e+10</td>\n",
       "      <td>41.893216</td>\n",
       "      <td>-87.637844</td>\n",
       "      <td>8.0</td>\n",
       "      <td>True</td>\n",
       "      <td>0</td>\n",
       "      <td>2018-11-01 00:15:00</td>\n",
       "      <td>255639c504ecace2c68e7161af3656b0a396d6bc</td>\n",
       "      <td>1.509451</td>\n",
       "      <td>417.0</td>\n",
       "      <td>2018-11-01 00:00:00</td>\n",
       "      <td>5.0</td>\n",
       "      <td>2</td>\n",
       "      <td>Thursday</td>\n",
       "      <td>0</td>\n",
       "    </tr>\n",
       "    <tr>\n",
       "      <th>2</th>\n",
       "      <td>2.5</td>\n",
       "      <td>NaN</td>\n",
       "      <td>41.901207</td>\n",
       "      <td>-87.676356</td>\n",
       "      <td>24.0</td>\n",
       "      <td>17.5</td>\n",
       "      <td>NaN</td>\n",
       "      <td>41.986712</td>\n",
       "      <td>-87.663416</td>\n",
       "      <td>77.0</td>\n",
       "      <td>False</td>\n",
       "      <td>0</td>\n",
       "      <td>2018-11-01 00:30:00</td>\n",
       "      <td>25b1dce31880b9c7e04351d1879a892e91aec393</td>\n",
       "      <td>9.821685</td>\n",
       "      <td>1510.0</td>\n",
       "      <td>2018-11-01 00:00:00</td>\n",
       "      <td>20.0</td>\n",
       "      <td>1</td>\n",
       "      <td>Thursday</td>\n",
       "      <td>0</td>\n",
       "    </tr>\n",
       "    <tr>\n",
       "      <th>3</th>\n",
       "      <td>0.0</td>\n",
       "      <td>NaN</td>\n",
       "      <td>41.794090</td>\n",
       "      <td>-87.592311</td>\n",
       "      <td>41.0</td>\n",
       "      <td>5.0</td>\n",
       "      <td>NaN</td>\n",
       "      <td>41.794090</td>\n",
       "      <td>-87.592311</td>\n",
       "      <td>41.0</td>\n",
       "      <td>True</td>\n",
       "      <td>2</td>\n",
       "      <td>2018-11-01 00:15:00</td>\n",
       "      <td>25fd3434e4dd26f6816ed7496f8edec8474eb735</td>\n",
       "      <td>0.467315</td>\n",
       "      <td>130.0</td>\n",
       "      <td>2018-11-01 00:00:00</td>\n",
       "      <td>7.0</td>\n",
       "      <td>1</td>\n",
       "      <td>Thursday</td>\n",
       "      <td>0</td>\n",
       "    </tr>\n",
       "    <tr>\n",
       "      <th>4</th>\n",
       "      <td>2.5</td>\n",
       "      <td>1.703124e+10</td>\n",
       "      <td>41.912084</td>\n",
       "      <td>-87.694598</td>\n",
       "      <td>24.0</td>\n",
       "      <td>5.0</td>\n",
       "      <td>1.703124e+10</td>\n",
       "      <td>41.906651</td>\n",
       "      <td>-87.665338</td>\n",
       "      <td>24.0</td>\n",
       "      <td>False</td>\n",
       "      <td>0</td>\n",
       "      <td>2018-11-01 00:15:00</td>\n",
       "      <td>262fc2b24cce5035a0d28042edda6fd410f0301a</td>\n",
       "      <td>1.740563</td>\n",
       "      <td>446.0</td>\n",
       "      <td>2018-11-01 00:00:00</td>\n",
       "      <td>7.5</td>\n",
       "      <td>1</td>\n",
       "      <td>Thursday</td>\n",
       "      <td>0</td>\n",
       "    </tr>\n",
       "  </tbody>\n",
       "</table>\n",
       "</div>"
      ],
      "text/plain": [
       "   additional_charges  dropoff_census_tract  dropoff_centroid_latitude  \\\n",
       "0                 2.5                   NaN                  41.975171   \n",
       "1                 0.0          1.703108e+10                  41.898332   \n",
       "2                 2.5                   NaN                  41.901207   \n",
       "3                 0.0                   NaN                  41.794090   \n",
       "4                 2.5          1.703124e+10                  41.912084   \n",
       "\n",
       "   dropoff_centroid_longitude  dropoff_community_area  fare  \\\n",
       "0                  -87.687516                     4.0  12.5   \n",
       "1                  -87.620763                     8.0   5.0   \n",
       "2                  -87.676356                    24.0  17.5   \n",
       "3                  -87.592311                    41.0   5.0   \n",
       "4                  -87.694598                    24.0   5.0   \n",
       "\n",
       "   pickup_census_tract  pickup_centroid_latitude  pickup_centroid_longitude  \\\n",
       "0                  NaN                 41.878866                 -87.625192   \n",
       "1         1.703108e+10                 41.893216                 -87.637844   \n",
       "2                  NaN                 41.986712                 -87.663416   \n",
       "3                  NaN                 41.794090                 -87.592311   \n",
       "4         1.703124e+10                 41.906651                 -87.665338   \n",
       "\n",
       "   pickup_community_area  shared_trip_authorized  tip   trip_end_timestamp  \\\n",
       "0                   32.0                   False    0  2018-11-01 00:15:00   \n",
       "1                    8.0                    True    0  2018-11-01 00:15:00   \n",
       "2                   77.0                   False    0  2018-11-01 00:30:00   \n",
       "3                   41.0                    True    2  2018-11-01 00:15:00   \n",
       "4                   24.0                   False    0  2018-11-01 00:15:00   \n",
       "\n",
       "                                    trip_id  trip_miles  trip_seconds  \\\n",
       "0  24c52d835a2de9427ab30fe68ba09806d6f230b2    8.674069         973.0   \n",
       "1  255639c504ecace2c68e7161af3656b0a396d6bc    1.509451         417.0   \n",
       "2  25b1dce31880b9c7e04351d1879a892e91aec393    9.821685        1510.0   \n",
       "3  25fd3434e4dd26f6816ed7496f8edec8474eb735    0.467315         130.0   \n",
       "4  262fc2b24cce5035a0d28042edda6fd410f0301a    1.740563         446.0   \n",
       "\n",
       "  trip_start_timestamp  trip_total  trips_pooled trip_start_day_of_week  \\\n",
       "0  2018-11-01 00:00:00        15.0             1               Thursday   \n",
       "1  2018-11-01 00:00:00         5.0             2               Thursday   \n",
       "2  2018-11-01 00:00:00        20.0             1               Thursday   \n",
       "3  2018-11-01 00:00:00         7.0             1               Thursday   \n",
       "4  2018-11-01 00:00:00         7.5             1               Thursday   \n",
       "\n",
       "   trip_start_hour_of_day  \n",
       "0                       0  \n",
       "1                       0  \n",
       "2                       0  \n",
       "3                       0  \n",
       "4                       0  "
      ]
     },
     "execution_count": 2,
     "metadata": {},
     "output_type": "execute_result"
    }
   ],
   "source": [
    "# read in files\n",
    "\n",
    "# assign each file to a df\n",
    "nov_1_df = pd.read_csv(\"../../chicago_rideshare_data/rideshare_nov01_to_nov07.csv\")\n",
    "nov_8_df = pd.read_csv(\"../../chicago_rideshare_data/rideshare_nov08_to_nov14.csv\")\n",
    "nov_15_df = pd.read_csv(\"../../chicago_rideshare_data/rideshare_nov15_to_nov21.csv\")\n",
    "nov_22_df = pd.read_csv(\"../../chicago_rideshare_data/rideshare_nov22_to_nov28.csv\")\n",
    "nov_29_df = pd.read_csv(\"../../chicago_rideshare_data/rideshare_nov29_to_nov30.csv\")\n",
    "\n",
    "# combine files (equivalent of R's rbind)\n",
    "combined = pd.concat([nov_1_df, nov_8_df, nov_15_df, nov_22_df, nov_29_df], ignore_index=True)\n",
    "combined.head()"
   ]
  },
  {
   "cell_type": "code",
   "execution_count": 3,
   "metadata": {
    "collapsed": false
   },
   "outputs": [
    {
     "name": "stdout",
     "output_type": "stream",
     "text": [
      "This table has the following dimensions: (8780411, 21)\n",
      "\n",
      "And the following info:\n",
      "\n",
      "<class 'pandas.core.frame.DataFrame'>\n",
      "RangeIndex: 8780411 entries, 0 to 8780410\n",
      "Data columns (total 21 columns):\n",
      "additional_charges            float64\n",
      "dropoff_census_tract          float64\n",
      "dropoff_centroid_latitude     float64\n",
      "dropoff_centroid_longitude    float64\n",
      "dropoff_community_area        float64\n",
      "fare                          float64\n",
      "pickup_census_tract           float64\n",
      "pickup_centroid_latitude      float64\n",
      "pickup_centroid_longitude     float64\n",
      "pickup_community_area         float64\n",
      "shared_trip_authorized        bool\n",
      "tip                           int64\n",
      "trip_end_timestamp            object\n",
      "trip_id                       object\n",
      "trip_miles                    float64\n",
      "trip_seconds                  float64\n",
      "trip_start_timestamp          object\n",
      "trip_total                    float64\n",
      "trips_pooled                  int64\n",
      "trip_start_day_of_week        object\n",
      "trip_start_hour_of_day        int64\n",
      "dtypes: bool(1), float64(13), int64(3), object(4)\n",
      "memory usage: 1.3+ GB\n",
      "None\n"
     ]
    }
   ],
   "source": [
    "# display additional info about the table\n",
    "print(\"This table has the following dimensions:\", combined.shape)\n",
    "print(\"\\nAnd the following info:\\n\")\n",
    "print(combined.info())"
   ]
  },
  {
   "cell_type": "code",
   "execution_count": 4,
   "metadata": {
    "collapsed": false
   },
   "outputs": [
    {
     "data": {
      "text/plain": [
       "additional_charges                   float64\n",
       "dropoff_census_tract                 float64\n",
       "dropoff_centroid_latitude            float64\n",
       "dropoff_centroid_longitude           float64\n",
       "dropoff_community_area               float64\n",
       "fare                                 float64\n",
       "pickup_census_tract                  float64\n",
       "pickup_centroid_latitude             float64\n",
       "pickup_centroid_longitude            float64\n",
       "pickup_community_area                float64\n",
       "shared_trip_authorized                  bool\n",
       "tip                                    int64\n",
       "trip_end_timestamp            datetime64[ns]\n",
       "trip_id                               object\n",
       "trip_miles                           float64\n",
       "trip_seconds                         float64\n",
       "trip_start_timestamp          datetime64[ns]\n",
       "trip_total                           float64\n",
       "trips_pooled                           int64\n",
       "trip_start_day_of_week                object\n",
       "trip_start_hour_of_day                 int64\n",
       "dtype: object"
      ]
     },
     "execution_count": 4,
     "metadata": {},
     "output_type": "execute_result"
    }
   ],
   "source": [
    "# convert the two timestamp cols to datetime64 objects\n",
    "combined[\"trip_start_timestamp\"] = pd.to_datetime(combined[\"trip_start_timestamp\"])\n",
    "combined[\"trip_end_timestamp\"] = pd.to_datetime(combined[\"trip_end_timestamp\"])\n",
    "\n",
    "# display data types in table\n",
    "combined.dtypes"
   ]
  },
  {
   "cell_type": "markdown",
   "metadata": {},
   "source": [
    "## Data Exploration"
   ]
  },
  {
   "cell_type": "markdown",
   "metadata": {},
   "source": [
    "### Count of trips by each day in the month (note Thanksgiving was on Thursday, 11/22/2018). Also, 11/3 was the first Saturday of the month"
   ]
  },
  {
   "cell_type": "code",
   "execution_count": 5,
   "metadata": {
    "collapsed": false
   },
   "outputs": [
    {
     "data": {
      "text/plain": [
       "<matplotlib.axes._subplots.AxesSubplot at 0x2042233c8>"
      ]
     },
     "execution_count": 5,
     "metadata": {},
     "output_type": "execute_result"
    },
    {
     "data": {
      "image/png": "[encoded data removed]",
      "text/plain": [
       "<Figure size 864x576 with 1 Axes>"
      ]
     },
     "metadata": {},
     "output_type": "display_data"
    }
   ],
   "source": [
    "# create a plot counting trips by day in Nov\n",
    "\n",
    "# extract day of month\n",
    "days_in_df = combined[\"trip_start_timestamp\"].dt.day\n",
    "\n",
    "# groupby day of month and count unique trips; then plot\n",
    "combined.groupby(days_in_df)[\"trip_id\"].count().plot(kind=\"bar\", color = \"b\", figsize = (12,8))"
   ]
  },
  {
   "cell_type": "markdown",
   "metadata": {},
   "source": [
    "### What day of the week was most popular?"
   ]
  },
  {
   "cell_type": "code",
   "execution_count": 6,
   "metadata": {
    "collapsed": false
   },
   "outputs": [
    {
     "data": {
      "text/html": [
       "<div>\n",
       "<style scoped>\n",
       "    .dataframe tbody tr th:only-of-type {\n",
       "        vertical-align: middle;\n",
       "    }\n",
       "\n",
       "    .dataframe tbody tr th {\n",
       "        vertical-align: top;\n",
       "    }\n",
       "\n",
       "    .dataframe thead th {\n",
       "        text-align: right;\n",
       "    }\n",
       "</style>\n",
       "<table border=\"1\" class=\"dataframe\">\n",
       "  <thead>\n",
       "    <tr style=\"text-align: right;\">\n",
       "      <th></th>\n",
       "      <th>index</th>\n",
       "      <th>trip_start_day_of_week</th>\n",
       "    </tr>\n",
       "  </thead>\n",
       "  <tbody>\n",
       "    <tr>\n",
       "      <th>0</th>\n",
       "      <td>Friday</td>\n",
       "      <td>1647575</td>\n",
       "    </tr>\n",
       "    <tr>\n",
       "      <th>1</th>\n",
       "      <td>Saturday</td>\n",
       "      <td>1424793</td>\n",
       "    </tr>\n",
       "    <tr>\n",
       "      <th>2</th>\n",
       "      <td>Thursday</td>\n",
       "      <td>1388454</td>\n",
       "    </tr>\n",
       "    <tr>\n",
       "      <th>3</th>\n",
       "      <td>Sunday</td>\n",
       "      <td>1132933</td>\n",
       "    </tr>\n",
       "    <tr>\n",
       "      <th>4</th>\n",
       "      <td>Wednesday</td>\n",
       "      <td>1119918</td>\n",
       "    </tr>\n",
       "    <tr>\n",
       "      <th>5</th>\n",
       "      <td>Tuesday</td>\n",
       "      <td>1079430</td>\n",
       "    </tr>\n",
       "    <tr>\n",
       "      <th>6</th>\n",
       "      <td>Monday</td>\n",
       "      <td>987308</td>\n",
       "    </tr>\n",
       "  </tbody>\n",
       "</table>\n",
       "</div>"
      ],
      "text/plain": [
       "       index  trip_start_day_of_week\n",
       "0     Friday                 1647575\n",
       "1   Saturday                 1424793\n",
       "2   Thursday                 1388454\n",
       "3     Sunday                 1132933\n",
       "4  Wednesday                 1119918\n",
       "5    Tuesday                 1079430\n",
       "6     Monday                  987308"
      ]
     },
     "execution_count": 6,
     "metadata": {},
     "output_type": "execute_result"
    }
   ],
   "source": [
    "# create a simple count of trip counts by day\n",
    "trip_count_by_day = combined.trip_start_day_of_week.value_counts().reset_index()\n",
    "trip_count_by_day"
   ]
  },
  {
   "cell_type": "markdown",
   "metadata": {},
   "source": [
    "Not surprisingly, the weekend days are the most popular. The code below will visualize the trend beginning on Monday and proceeding through to Sunday:"
   ]
  },
  {
   "cell_type": "code",
   "execution_count": 7,
   "metadata": {
    "collapsed": false
   },
   "outputs": [
    {
     "data": {
      "text/plain": [
       "<matplotlib.axes._subplots.AxesSubplot at 0x1d5d7b518>"
      ]
     },
     "execution_count": 7,
     "metadata": {},
     "output_type": "execute_result"
    },
    {
     "data": {
      "image/png": "[encoded data removed]",
      "text/plain": [
       "<Figure size 432x288 with 1 Axes>"
      ]
     },
     "metadata": {},
     "output_type": "display_data"
    }
   ],
   "source": [
    "# set a categorical that can then be ordered from Mon-Sun\n",
    "trip_count_by_day['index'] = pd.Categorical(trip_count_by_day['index'], [\"Monday\", \"Tuesday\", \"Wednesday\", \"Thursday\"\n",
    "                                                                     , \"Friday\", \"Saturday\", \"Sunday\"])\n",
    "\n",
    "# display a bar chart showing the number of trips for each day of the week (Nov 1 - 7)\n",
    "trip_count_by_day.sort_values('index').plot(x = \"index\", kind='bar')"
   ]
  },
  {
   "cell_type": "markdown",
   "metadata": {},
   "source": [
    "### How many people used shared trips (i.e., pool)? Are people more likely to use shared trips on work days or weekends?"
   ]
  },
  {
   "cell_type": "markdown",
   "metadata": {},
   "source": [
    "Let's take a look at the entire df:"
   ]
  },
  {
   "cell_type": "code",
   "execution_count": 8,
   "metadata": {
    "collapsed": false
   },
   "outputs": [
    {
     "name": "stdout",
     "output_type": "stream",
     "text": [
      "dataframe trip raw count:\n",
      "\n",
      "   index shared_trip_authorized\n",
      "0  False              6,393,296\n",
      "1   True              2,387,115\n",
      "\n",
      "dataframe trip percentage:\n",
      "\n",
      "   index  shared_trip_authorized\n",
      "0    0.0                0.728132\n",
      "1    1.0                0.271868\n"
     ]
    }
   ],
   "source": [
    "# value counts of shared trip authorized\n",
    "print(\"dataframe trip raw count:\\n\")\n",
    "print(combined.shared_trip_authorized.value_counts().apply(lambda x: \"{:,}\".format(x)).reset_index())\n",
    "\n",
    "# show percent\n",
    "print(\"\\ndataframe trip percentage:\\n\")\n",
    "print(combined[\"shared_trip_authorized\"].value_counts().reset_index().apply(lambda x: x/np.sum(x), axis=0))"
   ]
  },
  {
   "cell_type": "markdown",
   "metadata": {},
   "source": [
    "So, in general, about 27.19% of trips are shared. Is there a difference on weekdays v weekends?"
   ]
  },
  {
   "cell_type": "code",
   "execution_count": 9,
   "metadata": {
    "collapsed": false
   },
   "outputs": [
    {
     "name": "stdout",
     "output_type": "stream",
     "text": [
      "weekend trip raw count\n",
      "\n",
      "   index shared_trip_authorized\n",
      "0  False              1,939,170\n",
      "1   True                618,556\n",
      "\n",
      "weekend trip percentage\n",
      "\n",
      "   index  shared_trip_authorized\n",
      "0    0.0                0.758162\n",
      "1    1.0                0.241838\n"
     ]
    }
   ],
   "source": [
    "# display the counts for the weekend\n",
    "print(\"weekend trip raw count\\n\")\n",
    "print(combined.query('trip_start_day_of_week == \"Saturday\" |\\\n",
    "        trip_start_day_of_week == \"Sunday\"')[\"shared_trip_authorized\"].value_counts()\\\n",
    "        .apply(lambda x: \"{:,}\".format(x)).reset_index())\n",
    "\n",
    "# display the percentages for the weekend\n",
    "print(\"\\nweekend trip percentage\\n\")\n",
    "print(combined.query('trip_start_day_of_week == \"Saturday\" |\\\n",
    "               trip_start_day_of_week == \"Sunday\"')[\"shared_trip_authorized\"].value_counts().reset_index().apply(\n",
    "                lambda x: x/np.sum(x), axis=0))"
   ]
  },
  {
   "cell_type": "markdown",
   "metadata": {},
   "source": [
    "On the weekends, people use fewer shared trips. How about weekdays?"
   ]
  },
  {
   "cell_type": "code",
   "execution_count": 10,
   "metadata": {
    "collapsed": false
   },
   "outputs": [
    {
     "name": "stdout",
     "output_type": "stream",
     "text": [
      "weekday trip raw count\n",
      "\n",
      "   index shared_trip_authorized\n",
      "0  False              4,454,126\n",
      "1   True              1,768,559\n",
      "\n",
      "weekday trip percentages\n",
      "\n",
      "   index  shared_trip_authorized\n",
      "0    0.0                0.715788\n",
      "1    1.0                0.284212\n"
     ]
    }
   ],
   "source": [
    "# define weekdays\n",
    "weekdays = [\"Monday\", \"Tuesday\", \"Wednesday\", \"Thursday\", \"Friday\"]\n",
    "\n",
    "# print weekday raw trip counts\n",
    "print(\"weekday trip raw count\\n\")\n",
    "print(combined[combined[\"trip_start_day_of_week\"].isin(weekdays)][\"shared_trip_authorized\"].value_counts()\\\n",
    "      .apply(lambda x: \"{:,}\".format(x)).reset_index())\n",
    "\n",
    "# print weekday percentages\n",
    "print(\"\\nweekday trip percentages\\n\")\n",
    "print(combined[combined[\"trip_start_day_of_week\"].isin(weekdays)][\"shared_trip_authorized\"].value_counts()\\\n",
    "      .reset_index().apply(lambda x: x/np.sum(x), axis = 0))"
   ]
  },
  {
   "cell_type": "markdown",
   "metadata": {},
   "source": [
    "What if we don't include friday?"
   ]
  },
  {
   "cell_type": "code",
   "execution_count": 11,
   "metadata": {
    "collapsed": false
   },
   "outputs": [
    {
     "name": "stdout",
     "output_type": "stream",
     "text": [
      "weekday trip raw count\n",
      "\n",
      "   index shared_trip_authorized\n",
      "0  False              3,232,804\n",
      "1   True              1,342,306\n",
      "\n",
      "weekday trip percentages\n",
      "\n",
      "   index  shared_trip_authorized\n",
      "0    0.0                0.706607\n",
      "1    1.0                0.293393\n"
     ]
    }
   ],
   "source": [
    "# define weekdays_wo_friday\n",
    "weekdays_wo_friday = [\"Monday\", \"Tuesday\", \"Wednesday\", \"Thursday\"]#, \"Friday\"]\n",
    "\n",
    "# print weekday raw trip counts\n",
    "print(\"weekday trip raw count\\n\")\n",
    "print(combined[combined[\"trip_start_day_of_week\"].isin(weekdays_wo_friday)][\"shared_trip_authorized\"].value_counts()\\\n",
    "      .apply(lambda x: \"{:,}\".format(x)).reset_index())\n",
    "\n",
    "# print weekend percentages\n",
    "print(\"\\nweekday trip percentages\\n\")\n",
    "print(combined[combined[\"trip_start_day_of_week\"].isin(weekdays_wo_friday)][\"shared_trip_authorized\"].value_counts()\\\n",
    "      .reset_index().apply(lambda x: x/np.sum(x), axis = 0))"
   ]
  },
  {
   "cell_type": "markdown",
   "metadata": {},
   "source": [
    "Looking only at Mon-Thu, then, we see the heighest usage of shared trip so far. However, so far, this script has either assigned all of Friday's data to either the weekday or the weekend. But what about splitting Friday's work hours (and afternoon rush hour) to the weekday and the evening hours to the weekend? Below, the code assigns any ride from Friday 7 PM onward as weekend:"
   ]
  },
  {
   "cell_type": "markdown",
   "metadata": {},
   "source": [
    "The code below will use np.select to map trip start timestamps to either weekday or weekend. Pandas' [pandas.Series.dt.weekday](https://pandas.pydata.org/pandas-docs/stable/reference/api/pandas.Series.dt.weekday.html) assigns 0 to Monday through to 6 on Sunday. As such, anything less than 4 is a weekday, non-evening hours on 4 are weekeday, evening hours on 4 are weekend, and anything greater than or equal to 5 are weekend:"
   ]
  },
  {
   "cell_type": "code",
   "execution_count": 12,
   "metadata": {
    "collapsed": false
   },
   "outputs": [],
   "source": [
    "# establish conditions for np.select()\n",
    "cond1 = (combined['trip_start_timestamp'].dt.weekday < 4)\n",
    "cond2 = (combined['trip_start_timestamp'].dt.weekday == 4) & (combined['trip_start_timestamp'].dt.hour < 19)\n",
    "cond3 = (combined['trip_start_timestamp'].dt.weekday == 4) & (combined['trip_start_timestamp'].dt.hour >= 19)\n",
    "cond4 = (combined['trip_start_timestamp'].dt.weekday >= 5)"
   ]
  },
  {
   "cell_type": "code",
   "execution_count": 13,
   "metadata": {
    "collapsed": false
   },
   "outputs": [
    {
     "data": {
      "text/html": [
       "<div>\n",
       "<style scoped>\n",
       "    .dataframe tbody tr th:only-of-type {\n",
       "        vertical-align: middle;\n",
       "    }\n",
       "\n",
       "    .dataframe tbody tr th {\n",
       "        vertical-align: top;\n",
       "    }\n",
       "\n",
       "    .dataframe thead th {\n",
       "        text-align: right;\n",
       "    }\n",
       "</style>\n",
       "<table border=\"1\" class=\"dataframe\">\n",
       "  <thead>\n",
       "    <tr style=\"text-align: right;\">\n",
       "      <th></th>\n",
       "      <th>additional_charges</th>\n",
       "      <th>dropoff_census_tract</th>\n",
       "      <th>dropoff_centroid_latitude</th>\n",
       "      <th>dropoff_centroid_longitude</th>\n",
       "      <th>dropoff_community_area</th>\n",
       "      <th>fare</th>\n",
       "      <th>pickup_census_tract</th>\n",
       "      <th>pickup_centroid_latitude</th>\n",
       "      <th>pickup_centroid_longitude</th>\n",
       "      <th>pickup_community_area</th>\n",
       "      <th>shared_trip_authorized</th>\n",
       "      <th>tip</th>\n",
       "      <th>trip_end_timestamp</th>\n",
       "      <th>trip_id</th>\n",
       "      <th>trip_miles</th>\n",
       "      <th>trip_seconds</th>\n",
       "      <th>trip_start_timestamp</th>\n",
       "      <th>trip_total</th>\n",
       "      <th>trips_pooled</th>\n",
       "      <th>trip_start_day_of_week</th>\n",
       "      <th>trip_start_hour_of_day</th>\n",
       "      <th>weekday_or_weekend</th>\n",
       "    </tr>\n",
       "  </thead>\n",
       "  <tbody>\n",
       "    <tr>\n",
       "      <th>0</th>\n",
       "      <td>2.5</td>\n",
       "      <td>NaN</td>\n",
       "      <td>41.975171</td>\n",
       "      <td>-87.687516</td>\n",
       "      <td>4.0</td>\n",
       "      <td>12.5</td>\n",
       "      <td>NaN</td>\n",
       "      <td>41.878866</td>\n",
       "      <td>-87.625192</td>\n",
       "      <td>32.0</td>\n",
       "      <td>False</td>\n",
       "      <td>0</td>\n",
       "      <td>2018-11-01 00:15:00</td>\n",
       "      <td>24c52d835a2de9427ab30fe68ba09806d6f230b2</td>\n",
       "      <td>8.674069</td>\n",
       "      <td>973.0</td>\n",
       "      <td>2018-11-01</td>\n",
       "      <td>15.0</td>\n",
       "      <td>1</td>\n",
       "      <td>Thursday</td>\n",
       "      <td>0</td>\n",
       "      <td>Weekday</td>\n",
       "    </tr>\n",
       "    <tr>\n",
       "      <th>1</th>\n",
       "      <td>0.0</td>\n",
       "      <td>1.703108e+10</td>\n",
       "      <td>41.898332</td>\n",
       "      <td>-87.620763</td>\n",
       "      <td>8.0</td>\n",
       "      <td>5.0</td>\n",
       "      <td>1.703108e+10</td>\n",
       "      <td>41.893216</td>\n",
       "      <td>-87.637844</td>\n",
       "      <td>8.0</td>\n",
       "      <td>True</td>\n",
       "      <td>0</td>\n",
       "      <td>2018-11-01 00:15:00</td>\n",
       "      <td>255639c504ecace2c68e7161af3656b0a396d6bc</td>\n",
       "      <td>1.509451</td>\n",
       "      <td>417.0</td>\n",
       "      <td>2018-11-01</td>\n",
       "      <td>5.0</td>\n",
       "      <td>2</td>\n",
       "      <td>Thursday</td>\n",
       "      <td>0</td>\n",
       "      <td>Weekday</td>\n",
       "    </tr>\n",
       "    <tr>\n",
       "      <th>2</th>\n",
       "      <td>2.5</td>\n",
       "      <td>NaN</td>\n",
       "      <td>41.901207</td>\n",
       "      <td>-87.676356</td>\n",
       "      <td>24.0</td>\n",
       "      <td>17.5</td>\n",
       "      <td>NaN</td>\n",
       "      <td>41.986712</td>\n",
       "      <td>-87.663416</td>\n",
       "      <td>77.0</td>\n",
       "      <td>False</td>\n",
       "      <td>0</td>\n",
       "      <td>2018-11-01 00:30:00</td>\n",
       "      <td>25b1dce31880b9c7e04351d1879a892e91aec393</td>\n",
       "      <td>9.821685</td>\n",
       "      <td>1510.0</td>\n",
       "      <td>2018-11-01</td>\n",
       "      <td>20.0</td>\n",
       "      <td>1</td>\n",
       "      <td>Thursday</td>\n",
       "      <td>0</td>\n",
       "      <td>Weekday</td>\n",
       "    </tr>\n",
       "    <tr>\n",
       "      <th>3</th>\n",
       "      <td>0.0</td>\n",
       "      <td>NaN</td>\n",
       "      <td>41.794090</td>\n",
       "      <td>-87.592311</td>\n",
       "      <td>41.0</td>\n",
       "      <td>5.0</td>\n",
       "      <td>NaN</td>\n",
       "      <td>41.794090</td>\n",
       "      <td>-87.592311</td>\n",
       "      <td>41.0</td>\n",
       "      <td>True</td>\n",
       "      <td>2</td>\n",
       "      <td>2018-11-01 00:15:00</td>\n",
       "      <td>25fd3434e4dd26f6816ed7496f8edec8474eb735</td>\n",
       "      <td>0.467315</td>\n",
       "      <td>130.0</td>\n",
       "      <td>2018-11-01</td>\n",
       "      <td>7.0</td>\n",
       "      <td>1</td>\n",
       "      <td>Thursday</td>\n",
       "      <td>0</td>\n",
       "      <td>Weekday</td>\n",
       "    </tr>\n",
       "    <tr>\n",
       "      <th>4</th>\n",
       "      <td>2.5</td>\n",
       "      <td>1.703124e+10</td>\n",
       "      <td>41.912084</td>\n",
       "      <td>-87.694598</td>\n",
       "      <td>24.0</td>\n",
       "      <td>5.0</td>\n",
       "      <td>1.703124e+10</td>\n",
       "      <td>41.906651</td>\n",
       "      <td>-87.665338</td>\n",
       "      <td>24.0</td>\n",
       "      <td>False</td>\n",
       "      <td>0</td>\n",
       "      <td>2018-11-01 00:15:00</td>\n",
       "      <td>262fc2b24cce5035a0d28042edda6fd410f0301a</td>\n",
       "      <td>1.740563</td>\n",
       "      <td>446.0</td>\n",
       "      <td>2018-11-01</td>\n",
       "      <td>7.5</td>\n",
       "      <td>1</td>\n",
       "      <td>Thursday</td>\n",
       "      <td>0</td>\n",
       "      <td>Weekday</td>\n",
       "    </tr>\n",
       "  </tbody>\n",
       "</table>\n",
       "</div>"
      ],
      "text/plain": [
       "   additional_charges  dropoff_census_tract  dropoff_centroid_latitude  \\\n",
       "0                 2.5                   NaN                  41.975171   \n",
       "1                 0.0          1.703108e+10                  41.898332   \n",
       "2                 2.5                   NaN                  41.901207   \n",
       "3                 0.0                   NaN                  41.794090   \n",
       "4                 2.5          1.703124e+10                  41.912084   \n",
       "\n",
       "   dropoff_centroid_longitude  dropoff_community_area  fare  \\\n",
       "0                  -87.687516                     4.0  12.5   \n",
       "1                  -87.620763                     8.0   5.0   \n",
       "2                  -87.676356                    24.0  17.5   \n",
       "3                  -87.592311                    41.0   5.0   \n",
       "4                  -87.694598                    24.0   5.0   \n",
       "\n",
       "   pickup_census_tract  pickup_centroid_latitude  pickup_centroid_longitude  \\\n",
       "0                  NaN                 41.878866                 -87.625192   \n",
       "1         1.703108e+10                 41.893216                 -87.637844   \n",
       "2                  NaN                 41.986712                 -87.663416   \n",
       "3                  NaN                 41.794090                 -87.592311   \n",
       "4         1.703124e+10                 41.906651                 -87.665338   \n",
       "\n",
       "   pickup_community_area  shared_trip_authorized  tip  trip_end_timestamp  \\\n",
       "0                   32.0                   False    0 2018-11-01 00:15:00   \n",
       "1                    8.0                    True    0 2018-11-01 00:15:00   \n",
       "2                   77.0                   False    0 2018-11-01 00:30:00   \n",
       "3                   41.0                    True    2 2018-11-01 00:15:00   \n",
       "4                   24.0                   False    0 2018-11-01 00:15:00   \n",
       "\n",
       "                                    trip_id  trip_miles  trip_seconds  \\\n",
       "0  24c52d835a2de9427ab30fe68ba09806d6f230b2    8.674069         973.0   \n",
       "1  255639c504ecace2c68e7161af3656b0a396d6bc    1.509451         417.0   \n",
       "2  25b1dce31880b9c7e04351d1879a892e91aec393    9.821685        1510.0   \n",
       "3  25fd3434e4dd26f6816ed7496f8edec8474eb735    0.467315         130.0   \n",
       "4  262fc2b24cce5035a0d28042edda6fd410f0301a    1.740563         446.0   \n",
       "\n",
       "  trip_start_timestamp  trip_total  trips_pooled trip_start_day_of_week  \\\n",
       "0           2018-11-01        15.0             1               Thursday   \n",
       "1           2018-11-01         5.0             2               Thursday   \n",
       "2           2018-11-01        20.0             1               Thursday   \n",
       "3           2018-11-01         7.0             1               Thursday   \n",
       "4           2018-11-01         7.5             1               Thursday   \n",
       "\n",
       "   trip_start_hour_of_day weekday_or_weekend  \n",
       "0                       0            Weekday  \n",
       "1                       0            Weekday  \n",
       "2                       0            Weekday  \n",
       "3                       0            Weekday  \n",
       "4                       0            Weekday  "
      ]
     },
     "execution_count": 13,
     "metadata": {},
     "output_type": "execute_result"
    }
   ],
   "source": [
    "# assign a new column containing output of np.select\n",
    "# this will define each record as either weekday or weekend\n",
    "combined[\"weekday_or_weekend\"] = np.select(condlist=[cond1,cond2,cond3,cond4],\n",
    "                                      choicelist = [\"Weekday\", \"Weekday\", \"Weekend\", \"Weekend\"])\n",
    "\n",
    "# display first five rows\n",
    "combined.head()"
   ]
  },
  {
   "cell_type": "code",
   "execution_count": 14,
   "metadata": {
    "collapsed": false
   },
   "outputs": [
    {
     "data": {
      "text/html": [
       "<div>\n",
       "<style scoped>\n",
       "    .dataframe tbody tr th:only-of-type {\n",
       "        vertical-align: middle;\n",
       "    }\n",
       "\n",
       "    .dataframe tbody tr th {\n",
       "        vertical-align: top;\n",
       "    }\n",
       "\n",
       "    .dataframe thead th {\n",
       "        text-align: right;\n",
       "    }\n",
       "</style>\n",
       "<table border=\"1\" class=\"dataframe\">\n",
       "  <thead>\n",
       "    <tr style=\"text-align: right;\">\n",
       "      <th></th>\n",
       "      <th>additional_charges</th>\n",
       "      <th>dropoff_census_tract</th>\n",
       "      <th>dropoff_centroid_latitude</th>\n",
       "      <th>dropoff_centroid_longitude</th>\n",
       "      <th>dropoff_community_area</th>\n",
       "      <th>fare</th>\n",
       "      <th>pickup_census_tract</th>\n",
       "      <th>pickup_centroid_latitude</th>\n",
       "      <th>pickup_centroid_longitude</th>\n",
       "      <th>pickup_community_area</th>\n",
       "      <th>shared_trip_authorized</th>\n",
       "      <th>tip</th>\n",
       "      <th>trip_end_timestamp</th>\n",
       "      <th>trip_id</th>\n",
       "      <th>trip_miles</th>\n",
       "      <th>trip_seconds</th>\n",
       "      <th>trip_start_timestamp</th>\n",
       "      <th>trip_total</th>\n",
       "      <th>trips_pooled</th>\n",
       "      <th>trip_start_day_of_week</th>\n",
       "      <th>trip_start_hour_of_day</th>\n",
       "      <th>weekday_or_weekend</th>\n",
       "    </tr>\n",
       "  </thead>\n",
       "  <tbody>\n",
       "    <tr>\n",
       "      <th>512715</th>\n",
       "      <td>8.7</td>\n",
       "      <td>NaN</td>\n",
       "      <td>NaN</td>\n",
       "      <td>NaN</td>\n",
       "      <td>NaN</td>\n",
       "      <td>32.5</td>\n",
       "      <td>NaN</td>\n",
       "      <td>41.980264</td>\n",
       "      <td>-87.913625</td>\n",
       "      <td>76.0</td>\n",
       "      <td>False</td>\n",
       "      <td>4</td>\n",
       "      <td>2018-11-02 19:30:00</td>\n",
       "      <td>24cf02d00f61d913290f520452ada5efe24b878a</td>\n",
       "      <td>22.977336</td>\n",
       "      <td>1783.0</td>\n",
       "      <td>2018-11-02 19:00:00</td>\n",
       "      <td>45.2</td>\n",
       "      <td>1</td>\n",
       "      <td>Friday</td>\n",
       "      <td>19</td>\n",
       "      <td>Weekend</td>\n",
       "    </tr>\n",
       "    <tr>\n",
       "      <th>512716</th>\n",
       "      <td>2.5</td>\n",
       "      <td>1.703108e+10</td>\n",
       "      <td>41.892042</td>\n",
       "      <td>-87.631864</td>\n",
       "      <td>8.0</td>\n",
       "      <td>12.5</td>\n",
       "      <td>1.703107e+10</td>\n",
       "      <td>41.921778</td>\n",
       "      <td>-87.651062</td>\n",
       "      <td>7.0</td>\n",
       "      <td>False</td>\n",
       "      <td>0</td>\n",
       "      <td>2018-11-02 19:15:00</td>\n",
       "      <td>2502ef5004332b8d67c4a42159bdbc85274933cb</td>\n",
       "      <td>2.646045</td>\n",
       "      <td>1221.0</td>\n",
       "      <td>2018-11-02 19:00:00</td>\n",
       "      <td>15.0</td>\n",
       "      <td>1</td>\n",
       "      <td>Friday</td>\n",
       "      <td>19</td>\n",
       "      <td>Weekend</td>\n",
       "    </tr>\n",
       "    <tr>\n",
       "      <th>512717</th>\n",
       "      <td>2.5</td>\n",
       "      <td>1.703124e+10</td>\n",
       "      <td>41.906026</td>\n",
       "      <td>-87.675312</td>\n",
       "      <td>24.0</td>\n",
       "      <td>10.0</td>\n",
       "      <td>1.703108e+10</td>\n",
       "      <td>41.893216</td>\n",
       "      <td>-87.637844</td>\n",
       "      <td>8.0</td>\n",
       "      <td>False</td>\n",
       "      <td>1</td>\n",
       "      <td>2018-11-02 19:15:00</td>\n",
       "      <td>251e35565db0efffce175ced8421ce7b90a2dda8</td>\n",
       "      <td>2.394987</td>\n",
       "      <td>946.0</td>\n",
       "      <td>2018-11-02 19:00:00</td>\n",
       "      <td>13.5</td>\n",
       "      <td>1</td>\n",
       "      <td>Friday</td>\n",
       "      <td>19</td>\n",
       "      <td>Weekend</td>\n",
       "    </tr>\n",
       "    <tr>\n",
       "      <th>512718</th>\n",
       "      <td>7.5</td>\n",
       "      <td>1.703107e+10</td>\n",
       "      <td>41.922083</td>\n",
       "      <td>-87.634156</td>\n",
       "      <td>7.0</td>\n",
       "      <td>27.5</td>\n",
       "      <td>1.703198e+10</td>\n",
       "      <td>41.979071</td>\n",
       "      <td>-87.903040</td>\n",
       "      <td>76.0</td>\n",
       "      <td>False</td>\n",
       "      <td>7</td>\n",
       "      <td>2018-11-02 19:30:00</td>\n",
       "      <td>25581293cd46ef3c292cbbb145db8c4c7baf8de4</td>\n",
       "      <td>15.871917</td>\n",
       "      <td>2336.0</td>\n",
       "      <td>2018-11-02 19:00:00</td>\n",
       "      <td>42.0</td>\n",
       "      <td>1</td>\n",
       "      <td>Friday</td>\n",
       "      <td>19</td>\n",
       "      <td>Weekend</td>\n",
       "    </tr>\n",
       "    <tr>\n",
       "      <th>512719</th>\n",
       "      <td>2.5</td>\n",
       "      <td>1.703183e+10</td>\n",
       "      <td>41.921877</td>\n",
       "      <td>-87.664078</td>\n",
       "      <td>7.0</td>\n",
       "      <td>5.0</td>\n",
       "      <td>1.703107e+10</td>\n",
       "      <td>41.929273</td>\n",
       "      <td>-87.673807</td>\n",
       "      <td>7.0</td>\n",
       "      <td>False</td>\n",
       "      <td>2</td>\n",
       "      <td>2018-11-02 19:00:00</td>\n",
       "      <td>256f83bc2ab91358e80ce5c8a17588376eda4216</td>\n",
       "      <td>0.774922</td>\n",
       "      <td>357.0</td>\n",
       "      <td>2018-11-02 19:00:00</td>\n",
       "      <td>9.5</td>\n",
       "      <td>1</td>\n",
       "      <td>Friday</td>\n",
       "      <td>19</td>\n",
       "      <td>Weekend</td>\n",
       "    </tr>\n",
       "  </tbody>\n",
       "</table>\n",
       "</div>"
      ],
      "text/plain": [
       "        additional_charges  dropoff_census_tract  dropoff_centroid_latitude  \\\n",
       "512715                 8.7                   NaN                        NaN   \n",
       "512716                 2.5          1.703108e+10                  41.892042   \n",
       "512717                 2.5          1.703124e+10                  41.906026   \n",
       "512718                 7.5          1.703107e+10                  41.922083   \n",
       "512719                 2.5          1.703183e+10                  41.921877   \n",
       "\n",
       "        dropoff_centroid_longitude  dropoff_community_area  fare  \\\n",
       "512715                         NaN                     NaN  32.5   \n",
       "512716                  -87.631864                     8.0  12.5   \n",
       "512717                  -87.675312                    24.0  10.0   \n",
       "512718                  -87.634156                     7.0  27.5   \n",
       "512719                  -87.664078                     7.0   5.0   \n",
       "\n",
       "        pickup_census_tract  pickup_centroid_latitude  \\\n",
       "512715                  NaN                 41.980264   \n",
       "512716         1.703107e+10                 41.921778   \n",
       "512717         1.703108e+10                 41.893216   \n",
       "512718         1.703198e+10                 41.979071   \n",
       "512719         1.703107e+10                 41.929273   \n",
       "\n",
       "        pickup_centroid_longitude  pickup_community_area  \\\n",
       "512715                 -87.913625                   76.0   \n",
       "512716                 -87.651062                    7.0   \n",
       "512717                 -87.637844                    8.0   \n",
       "512718                 -87.903040                   76.0   \n",
       "512719                 -87.673807                    7.0   \n",
       "\n",
       "        shared_trip_authorized  tip  trip_end_timestamp  \\\n",
       "512715                   False    4 2018-11-02 19:30:00   \n",
       "512716                   False    0 2018-11-02 19:15:00   \n",
       "512717                   False    1 2018-11-02 19:15:00   \n",
       "512718                   False    7 2018-11-02 19:30:00   \n",
       "512719                   False    2 2018-11-02 19:00:00   \n",
       "\n",
       "                                         trip_id  trip_miles  trip_seconds  \\\n",
       "512715  24cf02d00f61d913290f520452ada5efe24b878a   22.977336        1783.0   \n",
       "512716  2502ef5004332b8d67c4a42159bdbc85274933cb    2.646045        1221.0   \n",
       "512717  251e35565db0efffce175ced8421ce7b90a2dda8    2.394987         946.0   \n",
       "512718  25581293cd46ef3c292cbbb145db8c4c7baf8de4   15.871917        2336.0   \n",
       "512719  256f83bc2ab91358e80ce5c8a17588376eda4216    0.774922         357.0   \n",
       "\n",
       "       trip_start_timestamp  trip_total  trips_pooled trip_start_day_of_week  \\\n",
       "512715  2018-11-02 19:00:00        45.2             1                 Friday   \n",
       "512716  2018-11-02 19:00:00        15.0             1                 Friday   \n",
       "512717  2018-11-02 19:00:00        13.5             1                 Friday   \n",
       "512718  2018-11-02 19:00:00        42.0             1                 Friday   \n",
       "512719  2018-11-02 19:00:00         9.5             1                 Friday   \n",
       "\n",
       "        trip_start_hour_of_day weekday_or_weekend  \n",
       "512715                      19            Weekend  \n",
       "512716                      19            Weekend  \n",
       "512717                      19            Weekend  \n",
       "512718                      19            Weekend  \n",
       "512719                      19            Weekend  "
      ]
     },
     "execution_count": 14,
     "metadata": {},
     "output_type": "execute_result"
    }
   ],
   "source": [
    "# checking to make sure 7 PM on Friday was mapped to weekend\n",
    "combined[combined.weekday_or_weekend.isin([\"Weekend\"])].iloc[:5,:]"
   ]
  },
  {
   "cell_type": "markdown",
   "metadata": {
    "collapsed": true
   },
   "source": [
    "Now that we have weekday and weekend split in a slighty more specific fashion, the code below will assess shared trip usage by weekday_or_weekend type:"
   ]
  },
  {
   "cell_type": "code",
   "execution_count": 15,
   "metadata": {
    "collapsed": false
   },
   "outputs": [],
   "source": [
    "# create groupby object\n",
    "grouped1 = combined.groupby([\"weekday_or_weekend\", \"shared_trip_authorized\"], as_index =False)[\"trip_id\"].count()"
   ]
  },
  {
   "cell_type": "code",
   "execution_count": 16,
   "metadata": {
    "collapsed": false
   },
   "outputs": [
    {
     "data": {
      "text/html": [
       "<div>\n",
       "<style scoped>\n",
       "    .dataframe tbody tr th:only-of-type {\n",
       "        vertical-align: middle;\n",
       "    }\n",
       "\n",
       "    .dataframe tbody tr th {\n",
       "        vertical-align: top;\n",
       "    }\n",
       "\n",
       "    .dataframe thead th {\n",
       "        text-align: right;\n",
       "    }\n",
       "</style>\n",
       "<table border=\"1\" class=\"dataframe\">\n",
       "  <thead>\n",
       "    <tr style=\"text-align: right;\">\n",
       "      <th></th>\n",
       "      <th>weekday_or_weekend</th>\n",
       "      <th>shared_trip_authorized</th>\n",
       "      <th>trip_id</th>\n",
       "      <th>percentage</th>\n",
       "    </tr>\n",
       "  </thead>\n",
       "  <tbody>\n",
       "    <tr>\n",
       "      <th>0</th>\n",
       "      <td>Weekday</td>\n",
       "      <td>False</td>\n",
       "      <td>4,020,783</td>\n",
       "      <td>70.93%</td>\n",
       "    </tr>\n",
       "    <tr>\n",
       "      <th>1</th>\n",
       "      <td>Weekday</td>\n",
       "      <td>True</td>\n",
       "      <td>1,648,162</td>\n",
       "      <td>29.07%</td>\n",
       "    </tr>\n",
       "    <tr>\n",
       "      <th>2</th>\n",
       "      <td>Weekend</td>\n",
       "      <td>False</td>\n",
       "      <td>2,372,513</td>\n",
       "      <td>76.25%</td>\n",
       "    </tr>\n",
       "    <tr>\n",
       "      <th>3</th>\n",
       "      <td>Weekend</td>\n",
       "      <td>True</td>\n",
       "      <td>738,953</td>\n",
       "      <td>23.75%</td>\n",
       "    </tr>\n",
       "  </tbody>\n",
       "</table>\n",
       "</div>"
      ],
      "text/plain": [
       "  weekday_or_weekend  shared_trip_authorized    trip_id percentage\n",
       "0            Weekday                   False  4,020,783     70.93%\n",
       "1            Weekday                    True  1,648,162     29.07%\n",
       "2            Weekend                   False  2,372,513     76.25%\n",
       "3            Weekend                    True    738,953     23.75%"
      ]
     },
     "execution_count": 16,
     "metadata": {},
     "output_type": "execute_result"
    }
   ],
   "source": [
    "# create a column containing the proportion\n",
    "grouped1['percentage'] = grouped1.groupby('weekday_or_weekend')['trip_id'].apply(lambda x: x/np.sum(x))\n",
    "\n",
    "# to make it easier to read, will add a thousands comma to the count of unique trip ids\n",
    "grouped1['trip_id'] = pd.Series([\"{:,}\".format(value) for value in grouped1['trip_id']], index=grouped1.index)\n",
    "\n",
    "# add a percentage while we're at it\n",
    "grouped1['percentage'] = pd.Series([\"{0:.2f}%\".format(value * 100) for value in grouped1['percentage']]\n",
    "                                   , index=grouped1.index)\n",
    "\n",
    "# display final groupby object\n",
    "grouped1"
   ]
  },
  {
   "cell_type": "markdown",
   "metadata": {},
   "source": [
    "When including Friday's evening hours as weekend, we see that shared trip (i.e., pool) is definitely more popular on weekdays"
   ]
  },
  {
   "cell_type": "markdown",
   "metadata": {},
   "source": [
    "### Why shared trips used more often on weekdays? Are people using it to commute?"
   ]
  },
  {
   "cell_type": "code",
   "execution_count": 17,
   "metadata": {
    "collapsed": false
   },
   "outputs": [
    {
     "data": {
      "text/html": [
       "<div>\n",
       "<style scoped>\n",
       "    .dataframe tbody tr th:only-of-type {\n",
       "        vertical-align: middle;\n",
       "    }\n",
       "\n",
       "    .dataframe tbody tr th {\n",
       "        vertical-align: top;\n",
       "    }\n",
       "\n",
       "    .dataframe thead th {\n",
       "        text-align: right;\n",
       "    }\n",
       "</style>\n",
       "<table border=\"1\" class=\"dataframe\">\n",
       "  <thead>\n",
       "    <tr style=\"text-align: right;\">\n",
       "      <th>shared_trip_authorized</th>\n",
       "      <th>False</th>\n",
       "      <th>True</th>\n",
       "      <th>All</th>\n",
       "      <th>Proportion of Pool Usage</th>\n",
       "      <th>Exceeds 29 Percent</th>\n",
       "    </tr>\n",
       "    <tr>\n",
       "      <th>trip_start_hour_of_day</th>\n",
       "      <th></th>\n",
       "      <th></th>\n",
       "      <th></th>\n",
       "      <th></th>\n",
       "      <th></th>\n",
       "    </tr>\n",
       "  </thead>\n",
       "  <tbody>\n",
       "    <tr>\n",
       "      <th>0</th>\n",
       "      <td>94509</td>\n",
       "      <td>40095</td>\n",
       "      <td>134604</td>\n",
       "      <td>0.297874</td>\n",
       "      <td>Exceeds 29%</td>\n",
       "    </tr>\n",
       "    <tr>\n",
       "      <th>1</th>\n",
       "      <td>60500</td>\n",
       "      <td>25476</td>\n",
       "      <td>85976</td>\n",
       "      <td>0.296315</td>\n",
       "      <td>Exceeds 29%</td>\n",
       "    </tr>\n",
       "    <tr>\n",
       "      <th>2</th>\n",
       "      <td>40384</td>\n",
       "      <td>17853</td>\n",
       "      <td>58237</td>\n",
       "      <td>0.306558</td>\n",
       "      <td>Exceeds 29%</td>\n",
       "    </tr>\n",
       "    <tr>\n",
       "      <th>3</th>\n",
       "      <td>32616</td>\n",
       "      <td>13270</td>\n",
       "      <td>45886</td>\n",
       "      <td>0.289195</td>\n",
       "      <td></td>\n",
       "    </tr>\n",
       "    <tr>\n",
       "      <th>4</th>\n",
       "      <td>46033</td>\n",
       "      <td>16220</td>\n",
       "      <td>62253</td>\n",
       "      <td>0.260550</td>\n",
       "      <td></td>\n",
       "    </tr>\n",
       "    <tr>\n",
       "      <th>5</th>\n",
       "      <td>74646</td>\n",
       "      <td>25619</td>\n",
       "      <td>100265</td>\n",
       "      <td>0.255513</td>\n",
       "      <td></td>\n",
       "    </tr>\n",
       "    <tr>\n",
       "      <th>6</th>\n",
       "      <td>129353</td>\n",
       "      <td>48499</td>\n",
       "      <td>177852</td>\n",
       "      <td>0.272693</td>\n",
       "      <td></td>\n",
       "    </tr>\n",
       "    <tr>\n",
       "      <th>7</th>\n",
       "      <td>207114</td>\n",
       "      <td>87236</td>\n",
       "      <td>294350</td>\n",
       "      <td>0.296368</td>\n",
       "      <td>Exceeds 29%</td>\n",
       "    </tr>\n",
       "    <tr>\n",
       "      <th>8</th>\n",
       "      <td>254179</td>\n",
       "      <td>111976</td>\n",
       "      <td>366155</td>\n",
       "      <td>0.305816</td>\n",
       "      <td>Exceeds 29%</td>\n",
       "    </tr>\n",
       "    <tr>\n",
       "      <th>9</th>\n",
       "      <td>225933</td>\n",
       "      <td>91947</td>\n",
       "      <td>317880</td>\n",
       "      <td>0.289251</td>\n",
       "      <td></td>\n",
       "    </tr>\n",
       "    <tr>\n",
       "      <th>10</th>\n",
       "      <td>183651</td>\n",
       "      <td>69101</td>\n",
       "      <td>252752</td>\n",
       "      <td>0.273394</td>\n",
       "      <td></td>\n",
       "    </tr>\n",
       "    <tr>\n",
       "      <th>11</th>\n",
       "      <td>183368</td>\n",
       "      <td>66536</td>\n",
       "      <td>249904</td>\n",
       "      <td>0.266246</td>\n",
       "      <td></td>\n",
       "    </tr>\n",
       "    <tr>\n",
       "      <th>12</th>\n",
       "      <td>189504</td>\n",
       "      <td>69561</td>\n",
       "      <td>259065</td>\n",
       "      <td>0.268508</td>\n",
       "      <td></td>\n",
       "    </tr>\n",
       "    <tr>\n",
       "      <th>13</th>\n",
       "      <td>192918</td>\n",
       "      <td>73312</td>\n",
       "      <td>266230</td>\n",
       "      <td>0.275371</td>\n",
       "      <td></td>\n",
       "    </tr>\n",
       "    <tr>\n",
       "      <th>14</th>\n",
       "      <td>192884</td>\n",
       "      <td>78479</td>\n",
       "      <td>271363</td>\n",
       "      <td>0.289203</td>\n",
       "      <td></td>\n",
       "    </tr>\n",
       "    <tr>\n",
       "      <th>15</th>\n",
       "      <td>213122</td>\n",
       "      <td>90035</td>\n",
       "      <td>303157</td>\n",
       "      <td>0.296991</td>\n",
       "      <td>Exceeds 29%</td>\n",
       "    </tr>\n",
       "    <tr>\n",
       "      <th>16</th>\n",
       "      <td>235097</td>\n",
       "      <td>111802</td>\n",
       "      <td>346899</td>\n",
       "      <td>0.322290</td>\n",
       "      <td>Exceeds 29%</td>\n",
       "    </tr>\n",
       "    <tr>\n",
       "      <th>17</th>\n",
       "      <td>280244</td>\n",
       "      <td>137231</td>\n",
       "      <td>417475</td>\n",
       "      <td>0.328717</td>\n",
       "      <td>Exceeds 29%</td>\n",
       "    </tr>\n",
       "    <tr>\n",
       "      <th>18</th>\n",
       "      <td>320814</td>\n",
       "      <td>134179</td>\n",
       "      <td>454993</td>\n",
       "      <td>0.294903</td>\n",
       "      <td>Exceeds 29%</td>\n",
       "    </tr>\n",
       "    <tr>\n",
       "      <th>19</th>\n",
       "      <td>217388</td>\n",
       "      <td>89486</td>\n",
       "      <td>306874</td>\n",
       "      <td>0.291605</td>\n",
       "      <td>Exceeds 29%</td>\n",
       "    </tr>\n",
       "    <tr>\n",
       "      <th>20</th>\n",
       "      <td>187336</td>\n",
       "      <td>71843</td>\n",
       "      <td>259179</td>\n",
       "      <td>0.277195</td>\n",
       "      <td></td>\n",
       "    </tr>\n",
       "    <tr>\n",
       "      <th>21</th>\n",
       "      <td>182568</td>\n",
       "      <td>67482</td>\n",
       "      <td>250050</td>\n",
       "      <td>0.269874</td>\n",
       "      <td></td>\n",
       "    </tr>\n",
       "    <tr>\n",
       "      <th>22</th>\n",
       "      <td>160346</td>\n",
       "      <td>61761</td>\n",
       "      <td>222107</td>\n",
       "      <td>0.278069</td>\n",
       "      <td></td>\n",
       "    </tr>\n",
       "    <tr>\n",
       "      <th>23</th>\n",
       "      <td>116276</td>\n",
       "      <td>49163</td>\n",
       "      <td>165439</td>\n",
       "      <td>0.297167</td>\n",
       "      <td>Exceeds 29%</td>\n",
       "    </tr>\n",
       "    <tr>\n",
       "      <th>All</th>\n",
       "      <td>4020783</td>\n",
       "      <td>1648162</td>\n",
       "      <td>5668945</td>\n",
       "      <td>0.290735</td>\n",
       "      <td>Exceeds 29%</td>\n",
       "    </tr>\n",
       "  </tbody>\n",
       "</table>\n",
       "</div>"
      ],
      "text/plain": [
       "shared_trip_authorized    False     True      All  Proportion of Pool Usage  \\\n",
       "trip_start_hour_of_day                                                        \n",
       "0                         94509    40095   134604                  0.297874   \n",
       "1                         60500    25476    85976                  0.296315   \n",
       "2                         40384    17853    58237                  0.306558   \n",
       "3                         32616    13270    45886                  0.289195   \n",
       "4                         46033    16220    62253                  0.260550   \n",
       "5                         74646    25619   100265                  0.255513   \n",
       "6                        129353    48499   177852                  0.272693   \n",
       "7                        207114    87236   294350                  0.296368   \n",
       "8                        254179   111976   366155                  0.305816   \n",
       "9                        225933    91947   317880                  0.289251   \n",
       "10                       183651    69101   252752                  0.273394   \n",
       "11                       183368    66536   249904                  0.266246   \n",
       "12                       189504    69561   259065                  0.268508   \n",
       "13                       192918    73312   266230                  0.275371   \n",
       "14                       192884    78479   271363                  0.289203   \n",
       "15                       213122    90035   303157                  0.296991   \n",
       "16                       235097   111802   346899                  0.322290   \n",
       "17                       280244   137231   417475                  0.328717   \n",
       "18                       320814   134179   454993                  0.294903   \n",
       "19                       217388    89486   306874                  0.291605   \n",
       "20                       187336    71843   259179                  0.277195   \n",
       "21                       182568    67482   250050                  0.269874   \n",
       "22                       160346    61761   222107                  0.278069   \n",
       "23                       116276    49163   165439                  0.297167   \n",
       "All                     4020783  1648162  5668945                  0.290735   \n",
       "\n",
       "shared_trip_authorized Exceeds 29 Percent  \n",
       "trip_start_hour_of_day                     \n",
       "0                             Exceeds 29%  \n",
       "1                             Exceeds 29%  \n",
       "2                             Exceeds 29%  \n",
       "3                                          \n",
       "4                                          \n",
       "5                                          \n",
       "6                                          \n",
       "7                             Exceeds 29%  \n",
       "8                             Exceeds 29%  \n",
       "9                                          \n",
       "10                                         \n",
       "11                                         \n",
       "12                                         \n",
       "13                                         \n",
       "14                                         \n",
       "15                            Exceeds 29%  \n",
       "16                            Exceeds 29%  \n",
       "17                            Exceeds 29%  \n",
       "18                            Exceeds 29%  \n",
       "19                            Exceeds 29%  \n",
       "20                                         \n",
       "21                                         \n",
       "22                                         \n",
       "23                            Exceeds 29%  \n",
       "All                           Exceeds 29%  "
      ]
     },
     "execution_count": 17,
     "metadata": {},
     "output_type": "execute_result"
    }
   ],
   "source": [
    "# create a pivot table that shows pool use on weekdays by hour \n",
    "weekday_pool_count = combined[combined[\"weekday_or_weekend\"].isin([\"Weekday\"])].pivot_table(\n",
    "    index='trip_start_hour_of_day', columns='shared_trip_authorized', values = 'trip_id', aggfunc ='count'\n",
    "    , margins = True)\n",
    "\n",
    "# add a column that includes the percent of trip that are pool for each hour\n",
    "weekday_pool_count[\"Proportion of Pool Usage\"] = weekday_pool_count[True]/weekday_pool_count[\"All\"]\n",
    "\n",
    "# create a flag if the proportion of pool usage exceeds 29%\n",
    "# choosing 29% since percentage across entire weekday groupby object above came out to 29.07%\n",
    "weekday_pool_count[\"Exceeds 29 Percent\"] = np.where(weekday_pool_count[\"Proportion of Pool Usage\"] > 0.29\n",
    "                                                    , \"Exceeds 29%\", \"\")\n",
    "\n",
    "# display table\n",
    "weekday_pool_count"
   ]
  },
  {
   "cell_type": "markdown",
   "metadata": {},
   "source": [
    "I'd be curious to explore this a bit deeper, but it does look like the heighest pool usage is around commuting times (for example, 7-8 AM and 3-7 PM, above). I am intrigued by the relatively higher pool usage happening between midnight and 3 AM."
   ]
  },
  {
   "cell_type": "markdown",
   "metadata": {
    "collapsed": true
   },
   "source": [
    "### How many trips include a tip? And when they do, what is the average tip? Are weekend riders more generous than weekday riders?"
   ]
  },
  {
   "cell_type": "code",
   "execution_count": 18,
   "metadata": {
    "collapsed": false
   },
   "outputs": [
    {
     "data": {
      "text/plain": [
       "0.5411041692695251"
      ]
     },
     "execution_count": 18,
     "metadata": {},
     "output_type": "execute_result"
    }
   ],
   "source": [
    "# what is the avg tip across whole dataset?\n",
    "np.mean(combined.tip)"
   ]
  },
  {
   "cell_type": "code",
   "execution_count": 19,
   "metadata": {
    "collapsed": false
   },
   "outputs": [
    {
     "data": {
      "text/plain": [
       "'17.63%'"
      ]
     },
     "execution_count": 19,
     "metadata": {},
     "output_type": "execute_result"
    }
   ],
   "source": [
    "# what percent of people tip?\n",
    "\"{:.2%}\".format((combined.tip > 0).sum()/len(combined))"
   ]
  },
  {
   "cell_type": "code",
   "execution_count": 20,
   "metadata": {
    "collapsed": false
   },
   "outputs": [
    {
     "data": {
      "text/plain": [
       "120"
      ]
     },
     "execution_count": 20,
     "metadata": {},
     "output_type": "execute_result"
    }
   ],
   "source": [
    "# what is max tip?\n",
    "np.max(combined.tip)"
   ]
  },
  {
   "cell_type": "markdown",
   "metadata": {},
   "source": [
    "Someone was feeling generous!"
   ]
  },
  {
   "cell_type": "code",
   "execution_count": 21,
   "metadata": {
    "collapsed": false
   },
   "outputs": [
    {
     "data": {
      "text/plain": [
       "0     7,232,206\n",
       "1       375,160\n",
       "2       531,657\n",
       "3       203,886\n",
       "4        48,096\n",
       "5       258,024\n",
       "6        26,488\n",
       "7        21,282\n",
       "8        16,097\n",
       "9         7,165\n",
       "10       42,122\n",
       "11        2,813\n",
       "12        3,153\n",
       "13        2,141\n",
       "14        1,460\n",
       "15        2,811\n",
       "16          711\n",
       "17          404\n",
       "18          370\n",
       "19          238\n",
       "20        2,290\n",
       "Name: tip, dtype: object"
      ]
     },
     "execution_count": 21,
     "metadata": {},
     "output_type": "execute_result"
    }
   ],
   "source": [
    "# and here is the breakdown of tips from $0 to $20\n",
    "# the left-most column is the tip amount (the dataset rounds tips to the nearest dollar)\n",
    "combined.tip.value_counts().sort_index()[:21].map(\"{:,}\".format)"
   ]
  },
  {
   "cell_type": "code",
   "execution_count": 22,
   "metadata": {
    "collapsed": false
   },
   "outputs": [
    {
     "data": {
      "text/plain": [
       "75      8\n",
       "76      1\n",
       "78      2\n",
       "79      3\n",
       "80     14\n",
       "81      9\n",
       "82      1\n",
       "83      1\n",
       "84      6\n",
       "86      4\n",
       "90      3\n",
       "92      1\n",
       "93      2\n",
       "94      1\n",
       "95      2\n",
       "96      2\n",
       "97      4\n",
       "99      2\n",
       "100    28\n",
       "110     1\n",
       "120     1\n",
       "Name: tip, dtype: object"
      ]
     },
     "execution_count": 22,
     "metadata": {},
     "output_type": "execute_result"
    }
   ],
   "source": [
    "# similar to the above, except count of highest 20 tip $ values\n",
    "combined.tip.value_counts().sort_index()[-21:].map(\"{:,}\".format)"
   ]
  },
  {
   "cell_type": "markdown",
   "metadata": {},
   "source": [
    "Interesting to see the small spikes around \\$80 and \\$100 tip amounts"
   ]
  },
  {
   "cell_type": "code",
   "execution_count": 23,
   "metadata": {
    "collapsed": false
   },
   "outputs": [
    {
     "data": {
      "image/png": "[encoded data removed]",
      "text/plain": [
       "<Figure size 432x288 with 1 Axes>"
      ]
     },
     "metadata": {},
     "output_type": "display_data"
    }
   ],
   "source": [
    "# visualize the tips between $0 and $20\n",
    "\n",
    "# fig, ax\n",
    "fig, ax = plt.subplots()\n",
    "\n",
    "# create plot\n",
    "combined.tip.hist(bins = 120)\n",
    "plt.xlim(0,20)\n",
    "plt.ylim(0,8000000)\n",
    "ax.yaxis.set_major_formatter(tkr.FuncFormatter(lambda x, p: format(int(x),',')))"
   ]
  },
  {
   "cell_type": "code",
   "execution_count": 24,
   "metadata": {
    "collapsed": false
   },
   "outputs": [
    {
     "data": {
      "text/html": [
       "<div>\n",
       "<style scoped>\n",
       "    .dataframe tbody tr th:only-of-type {\n",
       "        vertical-align: middle;\n",
       "    }\n",
       "\n",
       "    .dataframe tbody tr th {\n",
       "        vertical-align: top;\n",
       "    }\n",
       "\n",
       "    .dataframe thead th {\n",
       "        text-align: right;\n",
       "    }\n",
       "</style>\n",
       "<table border=\"1\" class=\"dataframe\">\n",
       "  <thead>\n",
       "    <tr style=\"text-align: right;\">\n",
       "      <th></th>\n",
       "      <th>index</th>\n",
       "      <th>Count</th>\n",
       "    </tr>\n",
       "  </thead>\n",
       "  <tbody>\n",
       "    <tr>\n",
       "      <th>0</th>\n",
       "      <td>Did Not Tip</td>\n",
       "      <td>7,232,206</td>\n",
       "    </tr>\n",
       "    <tr>\n",
       "      <th>1</th>\n",
       "      <td>Did Tip</td>\n",
       "      <td>1,548,205</td>\n",
       "    </tr>\n",
       "  </tbody>\n",
       "</table>\n",
       "</div>"
      ],
      "text/plain": [
       "         index      Count\n",
       "0  Did Not Tip  7,232,206\n",
       "1      Did Tip  1,548,205"
      ]
     },
     "execution_count": 24,
     "metadata": {},
     "output_type": "execute_result"
    }
   ],
   "source": [
    "# flag tip as anything greater than $0 value\n",
    "tip_count = np.where(combined.tip > 0, \"Did Tip\", \"Did Not Tip\")\n",
    "\n",
    "# see how many people tipped vs not tipped\n",
    "combined.groupby(tip_count)[\"tip\"].count().apply(lambda x: \"{:,}\".format(x))\\\n",
    "    .reset_index().rename(columns={\"tip\":\"Count\"})"
   ]
  },
  {
   "cell_type": "code",
   "execution_count": 25,
   "metadata": {
    "collapsed": false
   },
   "outputs": [
    {
     "data": {
      "text/html": [
       "<div>\n",
       "<style scoped>\n",
       "    .dataframe tbody tr th:only-of-type {\n",
       "        vertical-align: middle;\n",
       "    }\n",
       "\n",
       "    .dataframe tbody tr th {\n",
       "        vertical-align: top;\n",
       "    }\n",
       "\n",
       "    .dataframe thead th {\n",
       "        text-align: right;\n",
       "    }\n",
       "</style>\n",
       "<table border=\"1\" class=\"dataframe\">\n",
       "  <thead>\n",
       "    <tr style=\"text-align: right;\">\n",
       "      <th></th>\n",
       "      <th>weekday_or_weekend</th>\n",
       "      <th>level_1</th>\n",
       "      <th>Count</th>\n",
       "    </tr>\n",
       "  </thead>\n",
       "  <tbody>\n",
       "    <tr>\n",
       "      <th>0</th>\n",
       "      <td>Weekday</td>\n",
       "      <td>Did Not Tip</td>\n",
       "      <td>4,669,340</td>\n",
       "    </tr>\n",
       "    <tr>\n",
       "      <th>1</th>\n",
       "      <td>Weekday</td>\n",
       "      <td>Did Tip</td>\n",
       "      <td>999,605</td>\n",
       "    </tr>\n",
       "    <tr>\n",
       "      <th>2</th>\n",
       "      <td>Weekend</td>\n",
       "      <td>Did Not Tip</td>\n",
       "      <td>2,562,866</td>\n",
       "    </tr>\n",
       "    <tr>\n",
       "      <th>3</th>\n",
       "      <td>Weekend</td>\n",
       "      <td>Did Tip</td>\n",
       "      <td>548,600</td>\n",
       "    </tr>\n",
       "  </tbody>\n",
       "</table>\n",
       "</div>"
      ],
      "text/plain": [
       "  weekday_or_weekend      level_1      Count\n",
       "0            Weekday  Did Not Tip  4,669,340\n",
       "1            Weekday      Did Tip    999,605\n",
       "2            Weekend  Did Not Tip  2,562,866\n",
       "3            Weekend      Did Tip    548,600"
      ]
     },
     "execution_count": 25,
     "metadata": {},
     "output_type": "execute_result"
    }
   ],
   "source": [
    "# now split count by weekday / weekend\n",
    "combined.groupby([\"weekday_or_weekend\", tip_count])[\"tip\"].count().apply(lambda x: \"{:,}\".format(x))\\\n",
    "    .reset_index().rename(columns={\"tip\":\"Count\"})"
   ]
  },
  {
   "cell_type": "code",
   "execution_count": 26,
   "metadata": {
    "collapsed": false
   },
   "outputs": [
    {
     "data": {
      "text/html": [
       "<div>\n",
       "<style scoped>\n",
       "    .dataframe tbody tr th:only-of-type {\n",
       "        vertical-align: middle;\n",
       "    }\n",
       "\n",
       "    .dataframe tbody tr th {\n",
       "        vertical-align: top;\n",
       "    }\n",
       "\n",
       "    .dataframe thead th {\n",
       "        text-align: right;\n",
       "    }\n",
       "</style>\n",
       "<table border=\"1\" class=\"dataframe\">\n",
       "  <thead>\n",
       "    <tr style=\"text-align: right;\">\n",
       "      <th></th>\n",
       "      <th>weekday_or_weekend</th>\n",
       "      <th>Tip Status</th>\n",
       "      <th>Tip Count</th>\n",
       "      <th>Proportion</th>\n",
       "    </tr>\n",
       "  </thead>\n",
       "  <tbody>\n",
       "    <tr>\n",
       "      <th>0</th>\n",
       "      <td>Weekday</td>\n",
       "      <td>Did Not Tip</td>\n",
       "      <td>4669340</td>\n",
       "      <td>0.823670</td>\n",
       "    </tr>\n",
       "    <tr>\n",
       "      <th>1</th>\n",
       "      <td>Weekday</td>\n",
       "      <td>Did Tip</td>\n",
       "      <td>999605</td>\n",
       "      <td>0.176330</td>\n",
       "    </tr>\n",
       "    <tr>\n",
       "      <th>2</th>\n",
       "      <td>Weekend</td>\n",
       "      <td>Did Not Tip</td>\n",
       "      <td>2562866</td>\n",
       "      <td>0.823684</td>\n",
       "    </tr>\n",
       "    <tr>\n",
       "      <th>3</th>\n",
       "      <td>Weekend</td>\n",
       "      <td>Did Tip</td>\n",
       "      <td>548600</td>\n",
       "      <td>0.176316</td>\n",
       "    </tr>\n",
       "  </tbody>\n",
       "</table>\n",
       "</div>"
      ],
      "text/plain": [
       "  weekday_or_weekend   Tip Status  Tip Count  Proportion\n",
       "0            Weekday  Did Not Tip    4669340    0.823670\n",
       "1            Weekday      Did Tip     999605    0.176330\n",
       "2            Weekend  Did Not Tip    2562866    0.823684\n",
       "3            Weekend      Did Tip     548600    0.176316"
      ]
     },
     "execution_count": 26,
     "metadata": {},
     "output_type": "execute_result"
    }
   ],
   "source": [
    "# include proportion\n",
    "grouped2 = combined.groupby(['weekday_or_weekend', tip_count])['tip'].count().reset_index().rename(\n",
    "    columns={'level_1': 'Tip Status', 'tip':'Tip Count'})\n",
    "\n",
    "grouped2['Proportion'] = grouped2.groupby('weekday_or_weekend')['Tip Count'].apply(lambda x: x/np.sum(x))\n",
    "grouped2"
   ]
  },
  {
   "cell_type": "code",
   "execution_count": 27,
   "metadata": {
    "collapsed": false
   },
   "outputs": [
    {
     "data": {
      "text/html": [
       "<div>\n",
       "<style scoped>\n",
       "    .dataframe tbody tr th:only-of-type {\n",
       "        vertical-align: middle;\n",
       "    }\n",
       "\n",
       "    .dataframe tbody tr th {\n",
       "        vertical-align: top;\n",
       "    }\n",
       "\n",
       "    .dataframe thead th {\n",
       "        text-align: right;\n",
       "    }\n",
       "</style>\n",
       "<table border=\"1\" class=\"dataframe\">\n",
       "  <thead>\n",
       "    <tr style=\"text-align: right;\">\n",
       "      <th></th>\n",
       "      <th>weekday_or_weekend</th>\n",
       "      <th>Tip Status</th>\n",
       "      <th>Avg Tip</th>\n",
       "    </tr>\n",
       "  </thead>\n",
       "  <tbody>\n",
       "    <tr>\n",
       "      <th>0</th>\n",
       "      <td>Weekday</td>\n",
       "      <td>Did Not Tip</td>\n",
       "      <td>0.000000</td>\n",
       "    </tr>\n",
       "    <tr>\n",
       "      <th>1</th>\n",
       "      <td>Weekday</td>\n",
       "      <td>Did Tip</td>\n",
       "      <td>3.184286</td>\n",
       "    </tr>\n",
       "    <tr>\n",
       "      <th>2</th>\n",
       "      <td>Weekend</td>\n",
       "      <td>Did Not Tip</td>\n",
       "      <td>0.000000</td>\n",
       "    </tr>\n",
       "    <tr>\n",
       "      <th>3</th>\n",
       "      <td>Weekend</td>\n",
       "      <td>Did Tip</td>\n",
       "      <td>2.858347</td>\n",
       "    </tr>\n",
       "  </tbody>\n",
       "</table>\n",
       "</div>"
      ],
      "text/plain": [
       "  weekday_or_weekend   Tip Status   Avg Tip\n",
       "0            Weekday  Did Not Tip  0.000000\n",
       "1            Weekday      Did Tip  3.184286\n",
       "2            Weekend  Did Not Tip  0.000000\n",
       "3            Weekend      Did Tip  2.858347"
      ]
     },
     "execution_count": 27,
     "metadata": {},
     "output_type": "execute_result"
    }
   ],
   "source": [
    "# avg tip by weekday or weekend\n",
    "combined.groupby([\"weekday_or_weekend\", tip_count])[\"tip\"].mean().reset_index().rename(\n",
    "    columns={'level_1':'Tip Status', 'tip':'Avg Tip'})"
   ]
  },
  {
   "cell_type": "markdown",
   "metadata": {},
   "source": [
    "The proportion of riders who tip on weekday vs weekend is almost identical (17.633% vs 17.631%). That being said, when folks tip, the tips tend to be larger on weekdays than weekends."
   ]
  },
  {
   "cell_type": "code",
   "execution_count": null,
   "metadata": {
    "collapsed": true
   },
   "outputs": [],
   "source": []
  },
  {
   "cell_type": "code",
   "execution_count": null,
   "metadata": {
    "collapsed": true
   },
   "outputs": [],
   "source": []
  },
  {
   "cell_type": "code",
   "execution_count": null,
   "metadata": {
    "collapsed": true
   },
   "outputs": [],
   "source": []
  }
 ],
 "metadata": {
  "kernelspec": {
   "display_name": "Python 3",
   "language": "python",
   "name": "python3"
  },
  "language_info": {
   "codemirror_mode": {
    "name": "ipython",
    "version": 3
   },
   "file_extension": ".py",
   "mimetype": "text/x-python",
   "name": "python",
   "nbconvert_exporter": "python",
   "pygments_lexer": "ipython3",
   "version": "3.6.0"
  }
 },
 "nbformat": 4,
 "nbformat_minor": 2
}
