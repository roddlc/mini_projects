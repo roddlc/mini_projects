{
 "cells": [
  {
   "cell_type": "markdown",
   "metadata": {},
   "source": [
    "# Combine Rideshare and American Community Service tables"
   ]
  },
  {
   "cell_type": "markdown",
   "metadata": {},
   "source": [
    "## Setup, inputs"
   ]
  },
  {
   "cell_type": "code",
   "execution_count": 1,
   "metadata": {},
   "outputs": [],
   "source": [
    "# packages\n",
    "import pandas as pd\n",
    "import numpy as np\n",
    "import matplotlib.pyplot as plt\n",
    "import matplotlib.ticker as tkr\n",
    "import os\n",
    "from datetime import datetime\n",
    "import requests, json\n",
    "\n",
    "# display all columns and rows\n",
    "pd.set_option('display.max_columns', None)\n",
    "pd.set_option('display.max_rows', None)\n",
    "\n",
    "# display plots in ipynb\n",
    "%matplotlib inline\n",
    "\n",
    "# suppress scientic notation when printing a numpy array\n",
    "np.set_printoptions(formatter={'float_kind':'{:.0f}'.format})"
   ]
  },
  {
   "cell_type": "code",
   "execution_count": 2,
   "metadata": {},
   "outputs": [
    {
     "data": {
      "text/plain": [
       "'/Users/Athena/MyPyStuff/mini_projects/chicago_rideshare/src'"
      ]
     },
     "execution_count": 2,
     "metadata": {},
     "output_type": "execute_result"
    }
   ],
   "source": [
    "os.getcwd()"
   ]
  },
  {
   "cell_type": "markdown",
   "metadata": {},
   "source": [
    "#### Read in rideshare data"
   ]
  },
  {
   "cell_type": "code",
   "execution_count": 3,
   "metadata": {},
   "outputs": [
    {
     "name": "stdout",
     "output_type": "stream",
     "text": [
      "CPU times: user 38.5 s, sys: 6.5 s, total: 45 s\n",
      "Wall time: 43.3 s\n"
     ]
    },
    {
     "data": {
      "text/html": [
       "<div>\n",
       "<style scoped>\n",
       "    .dataframe tbody tr th:only-of-type {\n",
       "        vertical-align: middle;\n",
       "    }\n",
       "\n",
       "    .dataframe tbody tr th {\n",
       "        vertical-align: top;\n",
       "    }\n",
       "\n",
       "    .dataframe thead th {\n",
       "        text-align: right;\n",
       "    }\n",
       "</style>\n",
       "<table border=\"1\" class=\"dataframe\">\n",
       "  <thead>\n",
       "    <tr style=\"text-align: right;\">\n",
       "      <th></th>\n",
       "      <th>additional_charges</th>\n",
       "      <th>dropoff_census_tract</th>\n",
       "      <th>dropoff_centroid_latitude</th>\n",
       "      <th>dropoff_centroid_longitude</th>\n",
       "      <th>dropoff_community_area</th>\n",
       "      <th>fare</th>\n",
       "      <th>pickup_census_tract</th>\n",
       "      <th>pickup_centroid_latitude</th>\n",
       "      <th>pickup_centroid_longitude</th>\n",
       "      <th>pickup_community_area</th>\n",
       "      <th>shared_trip_authorized</th>\n",
       "      <th>tip</th>\n",
       "      <th>trip_end_timestamp</th>\n",
       "      <th>trip_id</th>\n",
       "      <th>trip_miles</th>\n",
       "      <th>trip_seconds</th>\n",
       "      <th>trip_start_timestamp</th>\n",
       "      <th>trip_total</th>\n",
       "      <th>trips_pooled</th>\n",
       "      <th>trip_start_day_of_week</th>\n",
       "      <th>trip_start_hour_of_day</th>\n",
       "    </tr>\n",
       "  </thead>\n",
       "  <tbody>\n",
       "    <tr>\n",
       "      <td>0</td>\n",
       "      <td>2.5</td>\n",
       "      <td>NaN</td>\n",
       "      <td>41.975171</td>\n",
       "      <td>-87.687516</td>\n",
       "      <td>4.0</td>\n",
       "      <td>12.5</td>\n",
       "      <td>NaN</td>\n",
       "      <td>41.878866</td>\n",
       "      <td>-87.625192</td>\n",
       "      <td>32.0</td>\n",
       "      <td>False</td>\n",
       "      <td>0</td>\n",
       "      <td>2018-11-01 00:15:00</td>\n",
       "      <td>24c52d835a2de9427ab30fe68ba09806d6f230b2</td>\n",
       "      <td>8.674069</td>\n",
       "      <td>973.0</td>\n",
       "      <td>2018-11-01 00:00:00</td>\n",
       "      <td>15.0</td>\n",
       "      <td>1</td>\n",
       "      <td>Thursday</td>\n",
       "      <td>0</td>\n",
       "    </tr>\n",
       "    <tr>\n",
       "      <td>1</td>\n",
       "      <td>0.0</td>\n",
       "      <td>1.703108e+10</td>\n",
       "      <td>41.898332</td>\n",
       "      <td>-87.620763</td>\n",
       "      <td>8.0</td>\n",
       "      <td>5.0</td>\n",
       "      <td>1.703108e+10</td>\n",
       "      <td>41.893216</td>\n",
       "      <td>-87.637844</td>\n",
       "      <td>8.0</td>\n",
       "      <td>True</td>\n",
       "      <td>0</td>\n",
       "      <td>2018-11-01 00:15:00</td>\n",
       "      <td>255639c504ecace2c68e7161af3656b0a396d6bc</td>\n",
       "      <td>1.509451</td>\n",
       "      <td>417.0</td>\n",
       "      <td>2018-11-01 00:00:00</td>\n",
       "      <td>5.0</td>\n",
       "      <td>2</td>\n",
       "      <td>Thursday</td>\n",
       "      <td>0</td>\n",
       "    </tr>\n",
       "    <tr>\n",
       "      <td>2</td>\n",
       "      <td>2.5</td>\n",
       "      <td>NaN</td>\n",
       "      <td>41.901207</td>\n",
       "      <td>-87.676356</td>\n",
       "      <td>24.0</td>\n",
       "      <td>17.5</td>\n",
       "      <td>NaN</td>\n",
       "      <td>41.986712</td>\n",
       "      <td>-87.663416</td>\n",
       "      <td>77.0</td>\n",
       "      <td>False</td>\n",
       "      <td>0</td>\n",
       "      <td>2018-11-01 00:30:00</td>\n",
       "      <td>25b1dce31880b9c7e04351d1879a892e91aec393</td>\n",
       "      <td>9.821685</td>\n",
       "      <td>1510.0</td>\n",
       "      <td>2018-11-01 00:00:00</td>\n",
       "      <td>20.0</td>\n",
       "      <td>1</td>\n",
       "      <td>Thursday</td>\n",
       "      <td>0</td>\n",
       "    </tr>\n",
       "    <tr>\n",
       "      <td>3</td>\n",
       "      <td>0.0</td>\n",
       "      <td>NaN</td>\n",
       "      <td>41.794090</td>\n",
       "      <td>-87.592311</td>\n",
       "      <td>41.0</td>\n",
       "      <td>5.0</td>\n",
       "      <td>NaN</td>\n",
       "      <td>41.794090</td>\n",
       "      <td>-87.592311</td>\n",
       "      <td>41.0</td>\n",
       "      <td>True</td>\n",
       "      <td>2</td>\n",
       "      <td>2018-11-01 00:15:00</td>\n",
       "      <td>25fd3434e4dd26f6816ed7496f8edec8474eb735</td>\n",
       "      <td>0.467315</td>\n",
       "      <td>130.0</td>\n",
       "      <td>2018-11-01 00:00:00</td>\n",
       "      <td>7.0</td>\n",
       "      <td>1</td>\n",
       "      <td>Thursday</td>\n",
       "      <td>0</td>\n",
       "    </tr>\n",
       "    <tr>\n",
       "      <td>4</td>\n",
       "      <td>2.5</td>\n",
       "      <td>1.703124e+10</td>\n",
       "      <td>41.912084</td>\n",
       "      <td>-87.694598</td>\n",
       "      <td>24.0</td>\n",
       "      <td>5.0</td>\n",
       "      <td>1.703124e+10</td>\n",
       "      <td>41.906651</td>\n",
       "      <td>-87.665338</td>\n",
       "      <td>24.0</td>\n",
       "      <td>False</td>\n",
       "      <td>0</td>\n",
       "      <td>2018-11-01 00:15:00</td>\n",
       "      <td>262fc2b24cce5035a0d28042edda6fd410f0301a</td>\n",
       "      <td>1.740563</td>\n",
       "      <td>446.0</td>\n",
       "      <td>2018-11-01 00:00:00</td>\n",
       "      <td>7.5</td>\n",
       "      <td>1</td>\n",
       "      <td>Thursday</td>\n",
       "      <td>0</td>\n",
       "    </tr>\n",
       "  </tbody>\n",
       "</table>\n",
       "</div>"
      ],
      "text/plain": [
       "   additional_charges  dropoff_census_tract  dropoff_centroid_latitude  \\\n",
       "0                 2.5                   NaN                  41.975171   \n",
       "1                 0.0          1.703108e+10                  41.898332   \n",
       "2                 2.5                   NaN                  41.901207   \n",
       "3                 0.0                   NaN                  41.794090   \n",
       "4                 2.5          1.703124e+10                  41.912084   \n",
       "\n",
       "   dropoff_centroid_longitude  dropoff_community_area  fare  \\\n",
       "0                  -87.687516                     4.0  12.5   \n",
       "1                  -87.620763                     8.0   5.0   \n",
       "2                  -87.676356                    24.0  17.5   \n",
       "3                  -87.592311                    41.0   5.0   \n",
       "4                  -87.694598                    24.0   5.0   \n",
       "\n",
       "   pickup_census_tract  pickup_centroid_latitude  pickup_centroid_longitude  \\\n",
       "0                  NaN                 41.878866                 -87.625192   \n",
       "1         1.703108e+10                 41.893216                 -87.637844   \n",
       "2                  NaN                 41.986712                 -87.663416   \n",
       "3                  NaN                 41.794090                 -87.592311   \n",
       "4         1.703124e+10                 41.906651                 -87.665338   \n",
       "\n",
       "   pickup_community_area  shared_trip_authorized  tip   trip_end_timestamp  \\\n",
       "0                   32.0                   False    0  2018-11-01 00:15:00   \n",
       "1                    8.0                    True    0  2018-11-01 00:15:00   \n",
       "2                   77.0                   False    0  2018-11-01 00:30:00   \n",
       "3                   41.0                    True    2  2018-11-01 00:15:00   \n",
       "4                   24.0                   False    0  2018-11-01 00:15:00   \n",
       "\n",
       "                                    trip_id  trip_miles  trip_seconds  \\\n",
       "0  24c52d835a2de9427ab30fe68ba09806d6f230b2    8.674069         973.0   \n",
       "1  255639c504ecace2c68e7161af3656b0a396d6bc    1.509451         417.0   \n",
       "2  25b1dce31880b9c7e04351d1879a892e91aec393    9.821685        1510.0   \n",
       "3  25fd3434e4dd26f6816ed7496f8edec8474eb735    0.467315         130.0   \n",
       "4  262fc2b24cce5035a0d28042edda6fd410f0301a    1.740563         446.0   \n",
       "\n",
       "  trip_start_timestamp  trip_total  trips_pooled trip_start_day_of_week  \\\n",
       "0  2018-11-01 00:00:00        15.0             1               Thursday   \n",
       "1  2018-11-01 00:00:00         5.0             2               Thursday   \n",
       "2  2018-11-01 00:00:00        20.0             1               Thursday   \n",
       "3  2018-11-01 00:00:00         7.0             1               Thursday   \n",
       "4  2018-11-01 00:00:00         7.5             1               Thursday   \n",
       "\n",
       "   trip_start_hour_of_day  \n",
       "0                       0  \n",
       "1                       0  \n",
       "2                       0  \n",
       "3                       0  \n",
       "4                       0  "
      ]
     },
     "execution_count": 3,
     "metadata": {},
     "output_type": "execute_result"
    }
   ],
   "source": [
    "%%time\n",
    "\n",
    "# read in files\n",
    "\n",
    "# assign each file to a df\n",
    "nov_1_df = pd.read_csv(\"../../../chicago_rideshare_data/rideshare_nov01_to_nov07.csv\")\n",
    "nov_8_df = pd.read_csv(\"../../../chicago_rideshare_data/rideshare_nov08_to_nov14.csv\")\n",
    "nov_15_df = pd.read_csv(\"../../../chicago_rideshare_data/rideshare_nov15_to_nov21.csv\")\n",
    "nov_22_df = pd.read_csv(\"../../../chicago_rideshare_data/rideshare_nov22_to_nov28.csv\")\n",
    "nov_29_df = pd.read_csv(\"../../../chicago_rideshare_data/rideshare_nov29_to_nov30.csv\")\n",
    "\n",
    "# combine files (equivalent of R's rbind)\n",
    "combined = pd.concat([nov_1_df, nov_8_df, nov_15_df, nov_22_df, nov_29_df], ignore_index=True)\n",
    "combined.head()"
   ]
  },
  {
   "cell_type": "markdown",
   "metadata": {},
   "source": [
    "#### Read in ACS 5 data"
   ]
  },
  {
   "cell_type": "code",
   "execution_count": 5,
   "metadata": {},
   "outputs": [
    {
     "data": {
      "text/html": [
       "<div>\n",
       "<style scoped>\n",
       "    .dataframe tbody tr th:only-of-type {\n",
       "        vertical-align: middle;\n",
       "    }\n",
       "\n",
       "    .dataframe tbody tr th {\n",
       "        vertical-align: top;\n",
       "    }\n",
       "\n",
       "    .dataframe thead th {\n",
       "        text-align: right;\n",
       "    }\n",
       "</style>\n",
       "<table border=\"1\" class=\"dataframe\">\n",
       "  <thead>\n",
       "    <tr style=\"text-align: right;\">\n",
       "      <th></th>\n",
       "      <th>fips</th>\n",
       "      <th>tract</th>\n",
       "      <th>census_tract</th>\n",
       "      <th>county_name</th>\n",
       "      <th>state</th>\n",
       "      <th>median_household_income</th>\n",
       "      <th>population</th>\n",
       "    </tr>\n",
       "  </thead>\n",
       "  <tbody>\n",
       "    <tr>\n",
       "      <td>0</td>\n",
       "      <td>17197</td>\n",
       "      <td>881002</td>\n",
       "      <td>17197881002</td>\n",
       "      <td>Will County</td>\n",
       "      <td>Illinois</td>\n",
       "      <td>88203</td>\n",
       "      <td>5186</td>\n",
       "    </tr>\n",
       "    <tr>\n",
       "      <td>1</td>\n",
       "      <td>17197</td>\n",
       "      <td>881105</td>\n",
       "      <td>17197881105</td>\n",
       "      <td>Will County</td>\n",
       "      <td>Illinois</td>\n",
       "      <td>121463</td>\n",
       "      <td>6394</td>\n",
       "    </tr>\n",
       "    <tr>\n",
       "      <td>2</td>\n",
       "      <td>17197</td>\n",
       "      <td>880502</td>\n",
       "      <td>17197880502</td>\n",
       "      <td>Will County</td>\n",
       "      <td>Illinois</td>\n",
       "      <td>85913</td>\n",
       "      <td>5180</td>\n",
       "    </tr>\n",
       "    <tr>\n",
       "      <td>3</td>\n",
       "      <td>17197</td>\n",
       "      <td>883700</td>\n",
       "      <td>17197883700</td>\n",
       "      <td>Will County</td>\n",
       "      <td>Illinois</td>\n",
       "      <td>48516</td>\n",
       "      <td>3127</td>\n",
       "    </tr>\n",
       "    <tr>\n",
       "      <td>4</td>\n",
       "      <td>17197</td>\n",
       "      <td>880105</td>\n",
       "      <td>17197880105</td>\n",
       "      <td>Will County</td>\n",
       "      <td>Illinois</td>\n",
       "      <td>90172</td>\n",
       "      <td>7590</td>\n",
       "    </tr>\n",
       "  </tbody>\n",
       "</table>\n",
       "</div>"
      ],
      "text/plain": [
       "    fips   tract  census_tract  county_name     state  \\\n",
       "0  17197  881002   17197881002  Will County  Illinois   \n",
       "1  17197  881105   17197881105  Will County  Illinois   \n",
       "2  17197  880502   17197880502  Will County  Illinois   \n",
       "3  17197  883700   17197883700  Will County  Illinois   \n",
       "4  17197  880105   17197880105  Will County  Illinois   \n",
       "\n",
       "   median_household_income  population  \n",
       "0                    88203        5186  \n",
       "1                   121463        6394  \n",
       "2                    85913        5180  \n",
       "3                    48516        3127  \n",
       "4                    90172        7590  "
      ]
     },
     "execution_count": 5,
     "metadata": {},
     "output_type": "execute_result"
    }
   ],
   "source": [
    "acs5 = pd.read_excel(\"../outputs/Illinois_Median_Household_Income_and_Population_by_Tract.xlsx\")\n",
    "acs5.head()"
   ]
  },
  {
   "cell_type": "markdown",
   "metadata": {},
   "source": [
    "## Compare inputs"
   ]
  },
  {
   "cell_type": "markdown",
   "metadata": {},
   "source": [
    "#### Assess overlap of census tracts between both datasets ahead of left joining acs5 data to rideshare data"
   ]
  },
  {
   "cell_type": "code",
   "execution_count": 10,
   "metadata": {},
   "outputs": [
    {
     "data": {
      "text/plain": [
       "916"
      ]
     },
     "execution_count": 10,
     "metadata": {},
     "output_type": "execute_result"
    }
   ],
   "source": [
    "# count of unique acs5 census tract values in rideshare dataset\n",
    "np.isin(acs5.census_tract.unique(), combined.pickup_census_tract).sum()"
   ]
  },
  {
   "cell_type": "code",
   "execution_count": 12,
   "metadata": {},
   "outputs": [
    {
     "data": {
      "text/plain": [
       "921"
      ]
     },
     "execution_count": 12,
     "metadata": {},
     "output_type": "execute_result"
    }
   ],
   "source": [
    "# unique census tracts in rideshare dataset\n",
    "combined.pickup_census_tract.nunique()"
   ]
  },
  {
   "cell_type": "code",
   "execution_count": 32,
   "metadata": {},
   "outputs": [
    {
     "data": {
      "text/plain": [
       "array([nan, 17031980000, 17031980100, 17031381700, 17031835700,\n",
       "       17031381500])"
      ]
     },
     "execution_count": 32,
     "metadata": {},
     "output_type": "execute_result"
    }
   ],
   "source": [
    "# rideshare census tracts without a corresponding value in acs5\n",
    "combined.pickup_census_tract.unique()[~np.isin(combined.pickup_census_tract.unique()\n",
    "                                               , acs5.census_tract)]"
   ]
  },
  {
   "cell_type": "markdown",
   "metadata": {},
   "source": [
    "I am not sure why the above four census tracts are in the rideshare dataset but not the ACS 5 table. Could it be because there are no (or too few households) in those four tracts?"
   ]
  },
  {
   "cell_type": "markdown",
   "metadata": {},
   "source": [
    "## Aggregate rideshare to tract level?????"
   ]
  },
  {
   "cell_type": "code",
   "execution_count": 54,
   "metadata": {},
   "outputs": [],
   "source": [
    "rideshare_agg = combined.groupby('pickup_census_tract').agg(count = ('pickup_census_tract', 'size'))"
   ]
  },
  {
   "cell_type": "code",
   "execution_count": 55,
   "metadata": {},
   "outputs": [],
   "source": [
    "rideshare_agg = rideshare_agg.reset_index()"
   ]
  },
  {
   "cell_type": "code",
   "execution_count": 56,
   "metadata": {},
   "outputs": [
    {
     "data": {
      "text/plain": [
       "(921, 2)"
      ]
     },
     "execution_count": 56,
     "metadata": {},
     "output_type": "execute_result"
    }
   ],
   "source": [
    "rideshare_agg.shape"
   ]
  },
  {
   "cell_type": "code",
   "execution_count": 57,
   "metadata": {},
   "outputs": [],
   "source": [
    "cols_post_join = ['fips', 'census_tract', 'median_household_income', 'population']\n",
    "rideshare_agg = pd.merge(rideshare_agg, acs5[cols_post_join], left_on = 'pickup_census_tract',\n",
    "                        right_on = 'census_tract', how = 'left').drop('census_tract', axis = 1)"
   ]
  },
  {
   "cell_type": "code",
   "execution_count": 58,
   "metadata": {},
   "outputs": [
    {
     "data": {
      "text/html": [
       "<div>\n",
       "<style scoped>\n",
       "    .dataframe tbody tr th:only-of-type {\n",
       "        vertical-align: middle;\n",
       "    }\n",
       "\n",
       "    .dataframe tbody tr th {\n",
       "        vertical-align: top;\n",
       "    }\n",
       "\n",
       "    .dataframe thead th {\n",
       "        text-align: right;\n",
       "    }\n",
       "</style>\n",
       "<table border=\"1\" class=\"dataframe\">\n",
       "  <thead>\n",
       "    <tr style=\"text-align: right;\">\n",
       "      <th></th>\n",
       "      <th>pickup_census_tract</th>\n",
       "      <th>count</th>\n",
       "      <th>fips</th>\n",
       "      <th>median_household_income</th>\n",
       "      <th>population</th>\n",
       "    </tr>\n",
       "  </thead>\n",
       "  <tbody>\n",
       "    <tr>\n",
       "      <td>0</td>\n",
       "      <td>1.703101e+10</td>\n",
       "      <td>3550</td>\n",
       "      <td>17031.0</td>\n",
       "      <td>33750.0</td>\n",
       "      <td>4444.0</td>\n",
       "    </tr>\n",
       "    <tr>\n",
       "      <td>1</td>\n",
       "      <td>1.703101e+10</td>\n",
       "      <td>5141</td>\n",
       "      <td>17031.0</td>\n",
       "      <td>40841.0</td>\n",
       "      <td>7197.0</td>\n",
       "    </tr>\n",
       "    <tr>\n",
       "      <td>2</td>\n",
       "      <td>1.703101e+10</td>\n",
       "      <td>4392</td>\n",
       "      <td>17031.0</td>\n",
       "      <td>36563.0</td>\n",
       "      <td>2487.0</td>\n",
       "    </tr>\n",
       "    <tr>\n",
       "      <td>3</td>\n",
       "      <td>1.703101e+10</td>\n",
       "      <td>5912</td>\n",
       "      <td>17031.0</td>\n",
       "      <td>36870.0</td>\n",
       "      <td>6413.0</td>\n",
       "    </tr>\n",
       "    <tr>\n",
       "      <td>4</td>\n",
       "      <td>1.703101e+10</td>\n",
       "      <td>9709</td>\n",
       "      <td>17031.0</td>\n",
       "      <td>39634.0</td>\n",
       "      <td>5411.0</td>\n",
       "    </tr>\n",
       "  </tbody>\n",
       "</table>\n",
       "</div>"
      ],
      "text/plain": [
       "   pickup_census_tract  count     fips  median_household_income  population\n",
       "0         1.703101e+10   3550  17031.0                  33750.0      4444.0\n",
       "1         1.703101e+10   5141  17031.0                  40841.0      7197.0\n",
       "2         1.703101e+10   4392  17031.0                  36563.0      2487.0\n",
       "3         1.703101e+10   5912  17031.0                  36870.0      6413.0\n",
       "4         1.703101e+10   9709  17031.0                  39634.0      5411.0"
      ]
     },
     "execution_count": 58,
     "metadata": {},
     "output_type": "execute_result"
    }
   ],
   "source": [
    "rideshare_agg.head()"
   ]
  },
  {
   "cell_type": "code",
   "execution_count": 62,
   "metadata": {},
   "outputs": [
    {
     "data": {
      "text/plain": [
       "<matplotlib.collections.PathCollection at 0x14f39b510>"
      ]
     },
     "execution_count": 62,
     "metadata": {},
     "output_type": "execute_result"
    },
    {
     "data": {
      "image/png": "[encoded data removed]",
      "text/plain": [
       "<Figure size 432x288 with 1 Axes>"
      ]
     },
     "metadata": {
      "needs_background": "light"
     },
     "output_type": "display_data"
    }
   ],
   "source": [
    "plt.scatter(x = rideshare_agg.median_household_income, y = rideshare_agg['count'])"
   ]
  },
  {
   "cell_type": "code",
   "execution_count": 64,
   "metadata": {},
   "outputs": [
    {
     "data": {
      "text/plain": [
       "<matplotlib.collections.PathCollection at 0x14f4da0d0>"
      ]
     },
     "execution_count": 64,
     "metadata": {},
     "output_type": "execute_result"
    },
    {
     "data": {
      "image/png": "[encoded data removed]",
      "text/plain": [
       "<Figure size 432x288 with 1 Axes>"
      ]
     },
     "metadata": {
      "needs_background": "light"
     },
     "output_type": "display_data"
    }
   ],
   "source": [
    "plt.scatter(x = rideshare_agg.population, y = rideshare_agg['count'])"
   ]
  },
  {
   "cell_type": "markdown",
   "metadata": {},
   "source": [
    "` query that one tract with about 7500 but so many trips.. is that downtown or an office area? Should I filter for morning rides `"
   ]
  },
  {
   "cell_type": "code",
   "execution_count": null,
   "metadata": {},
   "outputs": [],
   "source": []
  },
  {
   "cell_type": "code",
   "execution_count": null,
   "metadata": {},
   "outputs": [],
   "source": []
  },
  {
   "cell_type": "markdown",
   "metadata": {},
   "source": [
    "## Prep data for join"
   ]
  },
  {
   "cell_type": "markdown",
   "metadata": {},
   "source": [
    "#### Define columns in rideshare dataset that we want to keep. Keeping all columns makes the table a bit wide."
   ]
  },
  {
   "cell_type": "code",
   "execution_count": 35,
   "metadata": {},
   "outputs": [
    {
     "data": {
      "text/html": [
       "<div>\n",
       "<style scoped>\n",
       "    .dataframe tbody tr th:only-of-type {\n",
       "        vertical-align: middle;\n",
       "    }\n",
       "\n",
       "    .dataframe tbody tr th {\n",
       "        vertical-align: top;\n",
       "    }\n",
       "\n",
       "    .dataframe thead th {\n",
       "        text-align: right;\n",
       "    }\n",
       "</style>\n",
       "<table border=\"1\" class=\"dataframe\">\n",
       "  <thead>\n",
       "    <tr style=\"text-align: right;\">\n",
       "      <th></th>\n",
       "      <th>additional_charges</th>\n",
       "      <th>dropoff_census_tract</th>\n",
       "      <th>dropoff_centroid_latitude</th>\n",
       "      <th>dropoff_centroid_longitude</th>\n",
       "      <th>dropoff_community_area</th>\n",
       "      <th>fare</th>\n",
       "      <th>pickup_census_tract</th>\n",
       "      <th>pickup_centroid_latitude</th>\n",
       "      <th>pickup_centroid_longitude</th>\n",
       "      <th>pickup_community_area</th>\n",
       "      <th>shared_trip_authorized</th>\n",
       "      <th>tip</th>\n",
       "      <th>trip_end_timestamp</th>\n",
       "      <th>trip_id</th>\n",
       "      <th>trip_miles</th>\n",
       "      <th>trip_seconds</th>\n",
       "      <th>trip_start_timestamp</th>\n",
       "      <th>trip_total</th>\n",
       "      <th>trips_pooled</th>\n",
       "      <th>trip_start_day_of_week</th>\n",
       "      <th>trip_start_hour_of_day</th>\n",
       "    </tr>\n",
       "  </thead>\n",
       "  <tbody>\n",
       "    <tr>\n",
       "      <td>0</td>\n",
       "      <td>2.5</td>\n",
       "      <td>NaN</td>\n",
       "      <td>41.975171</td>\n",
       "      <td>-87.687516</td>\n",
       "      <td>4.0</td>\n",
       "      <td>12.5</td>\n",
       "      <td>NaN</td>\n",
       "      <td>41.878866</td>\n",
       "      <td>-87.625192</td>\n",
       "      <td>32.0</td>\n",
       "      <td>False</td>\n",
       "      <td>0</td>\n",
       "      <td>2018-11-01 00:15:00</td>\n",
       "      <td>24c52d835a2de9427ab30fe68ba09806d6f230b2</td>\n",
       "      <td>8.674069</td>\n",
       "      <td>973.0</td>\n",
       "      <td>2018-11-01 00:00:00</td>\n",
       "      <td>15.0</td>\n",
       "      <td>1</td>\n",
       "      <td>Thursday</td>\n",
       "      <td>0</td>\n",
       "    </tr>\n",
       "    <tr>\n",
       "      <td>1</td>\n",
       "      <td>0.0</td>\n",
       "      <td>1.703108e+10</td>\n",
       "      <td>41.898332</td>\n",
       "      <td>-87.620763</td>\n",
       "      <td>8.0</td>\n",
       "      <td>5.0</td>\n",
       "      <td>1.703108e+10</td>\n",
       "      <td>41.893216</td>\n",
       "      <td>-87.637844</td>\n",
       "      <td>8.0</td>\n",
       "      <td>True</td>\n",
       "      <td>0</td>\n",
       "      <td>2018-11-01 00:15:00</td>\n",
       "      <td>255639c504ecace2c68e7161af3656b0a396d6bc</td>\n",
       "      <td>1.509451</td>\n",
       "      <td>417.0</td>\n",
       "      <td>2018-11-01 00:00:00</td>\n",
       "      <td>5.0</td>\n",
       "      <td>2</td>\n",
       "      <td>Thursday</td>\n",
       "      <td>0</td>\n",
       "    </tr>\n",
       "    <tr>\n",
       "      <td>2</td>\n",
       "      <td>2.5</td>\n",
       "      <td>NaN</td>\n",
       "      <td>41.901207</td>\n",
       "      <td>-87.676356</td>\n",
       "      <td>24.0</td>\n",
       "      <td>17.5</td>\n",
       "      <td>NaN</td>\n",
       "      <td>41.986712</td>\n",
       "      <td>-87.663416</td>\n",
       "      <td>77.0</td>\n",
       "      <td>False</td>\n",
       "      <td>0</td>\n",
       "      <td>2018-11-01 00:30:00</td>\n",
       "      <td>25b1dce31880b9c7e04351d1879a892e91aec393</td>\n",
       "      <td>9.821685</td>\n",
       "      <td>1510.0</td>\n",
       "      <td>2018-11-01 00:00:00</td>\n",
       "      <td>20.0</td>\n",
       "      <td>1</td>\n",
       "      <td>Thursday</td>\n",
       "      <td>0</td>\n",
       "    </tr>\n",
       "    <tr>\n",
       "      <td>3</td>\n",
       "      <td>0.0</td>\n",
       "      <td>NaN</td>\n",
       "      <td>41.794090</td>\n",
       "      <td>-87.592311</td>\n",
       "      <td>41.0</td>\n",
       "      <td>5.0</td>\n",
       "      <td>NaN</td>\n",
       "      <td>41.794090</td>\n",
       "      <td>-87.592311</td>\n",
       "      <td>41.0</td>\n",
       "      <td>True</td>\n",
       "      <td>2</td>\n",
       "      <td>2018-11-01 00:15:00</td>\n",
       "      <td>25fd3434e4dd26f6816ed7496f8edec8474eb735</td>\n",
       "      <td>0.467315</td>\n",
       "      <td>130.0</td>\n",
       "      <td>2018-11-01 00:00:00</td>\n",
       "      <td>7.0</td>\n",
       "      <td>1</td>\n",
       "      <td>Thursday</td>\n",
       "      <td>0</td>\n",
       "    </tr>\n",
       "    <tr>\n",
       "      <td>4</td>\n",
       "      <td>2.5</td>\n",
       "      <td>1.703124e+10</td>\n",
       "      <td>41.912084</td>\n",
       "      <td>-87.694598</td>\n",
       "      <td>24.0</td>\n",
       "      <td>5.0</td>\n",
       "      <td>1.703124e+10</td>\n",
       "      <td>41.906651</td>\n",
       "      <td>-87.665338</td>\n",
       "      <td>24.0</td>\n",
       "      <td>False</td>\n",
       "      <td>0</td>\n",
       "      <td>2018-11-01 00:15:00</td>\n",
       "      <td>262fc2b24cce5035a0d28042edda6fd410f0301a</td>\n",
       "      <td>1.740563</td>\n",
       "      <td>446.0</td>\n",
       "      <td>2018-11-01 00:00:00</td>\n",
       "      <td>7.5</td>\n",
       "      <td>1</td>\n",
       "      <td>Thursday</td>\n",
       "      <td>0</td>\n",
       "    </tr>\n",
       "  </tbody>\n",
       "</table>\n",
       "</div>"
      ],
      "text/plain": [
       "   additional_charges  dropoff_census_tract  dropoff_centroid_latitude  \\\n",
       "0                 2.5                   NaN                  41.975171   \n",
       "1                 0.0          1.703108e+10                  41.898332   \n",
       "2                 2.5                   NaN                  41.901207   \n",
       "3                 0.0                   NaN                  41.794090   \n",
       "4                 2.5          1.703124e+10                  41.912084   \n",
       "\n",
       "   dropoff_centroid_longitude  dropoff_community_area  fare  \\\n",
       "0                  -87.687516                     4.0  12.5   \n",
       "1                  -87.620763                     8.0   5.0   \n",
       "2                  -87.676356                    24.0  17.5   \n",
       "3                  -87.592311                    41.0   5.0   \n",
       "4                  -87.694598                    24.0   5.0   \n",
       "\n",
       "   pickup_census_tract  pickup_centroid_latitude  pickup_centroid_longitude  \\\n",
       "0                  NaN                 41.878866                 -87.625192   \n",
       "1         1.703108e+10                 41.893216                 -87.637844   \n",
       "2                  NaN                 41.986712                 -87.663416   \n",
       "3                  NaN                 41.794090                 -87.592311   \n",
       "4         1.703124e+10                 41.906651                 -87.665338   \n",
       "\n",
       "   pickup_community_area  shared_trip_authorized  tip   trip_end_timestamp  \\\n",
       "0                   32.0                   False    0  2018-11-01 00:15:00   \n",
       "1                    8.0                    True    0  2018-11-01 00:15:00   \n",
       "2                   77.0                   False    0  2018-11-01 00:30:00   \n",
       "3                   41.0                    True    2  2018-11-01 00:15:00   \n",
       "4                   24.0                   False    0  2018-11-01 00:15:00   \n",
       "\n",
       "                                    trip_id  trip_miles  trip_seconds  \\\n",
       "0  24c52d835a2de9427ab30fe68ba09806d6f230b2    8.674069         973.0   \n",
       "1  255639c504ecace2c68e7161af3656b0a396d6bc    1.509451         417.0   \n",
       "2  25b1dce31880b9c7e04351d1879a892e91aec393    9.821685        1510.0   \n",
       "3  25fd3434e4dd26f6816ed7496f8edec8474eb735    0.467315         130.0   \n",
       "4  262fc2b24cce5035a0d28042edda6fd410f0301a    1.740563         446.0   \n",
       "\n",
       "  trip_start_timestamp  trip_total  trips_pooled trip_start_day_of_week  \\\n",
       "0  2018-11-01 00:00:00        15.0             1               Thursday   \n",
       "1  2018-11-01 00:00:00         5.0             2               Thursday   \n",
       "2  2018-11-01 00:00:00        20.0             1               Thursday   \n",
       "3  2018-11-01 00:00:00         7.0             1               Thursday   \n",
       "4  2018-11-01 00:00:00         7.5             1               Thursday   \n",
       "\n",
       "   trip_start_hour_of_day  \n",
       "0                       0  \n",
       "1                       0  \n",
       "2                       0  \n",
       "3                       0  \n",
       "4                       0  "
      ]
     },
     "execution_count": 35,
     "metadata": {},
     "output_type": "execute_result"
    }
   ],
   "source": [
    "# display first five rows\n",
    "combined.head()"
   ]
  },
  {
   "cell_type": "code",
   "execution_count": 37,
   "metadata": {},
   "outputs": [
    {
     "data": {
      "text/plain": [
       "Index(['additional_charges', 'dropoff_census_tract',\n",
       "       'dropoff_centroid_latitude', 'dropoff_centroid_longitude',\n",
       "       'dropoff_community_area', 'fare', 'pickup_census_tract',\n",
       "       'pickup_centroid_latitude', 'pickup_centroid_longitude',\n",
       "       'pickup_community_area', 'shared_trip_authorized', 'tip',\n",
       "       'trip_end_timestamp', 'trip_id', 'trip_miles', 'trip_seconds',\n",
       "       'trip_start_timestamp', 'trip_total', 'trips_pooled',\n",
       "       'trip_start_day_of_week', 'trip_start_hour_of_day'],\n",
       "      dtype='object')"
      ]
     },
     "execution_count": 37,
     "metadata": {},
     "output_type": "execute_result"
    }
   ],
   "source": [
    "# display column names\n",
    "combined.columns"
   ]
  },
  {
   "cell_type": "markdown",
   "metadata": {},
   "source": [
    "Some columns that stand out are:\n",
    "- dropoff_census_tract\n",
    "- fare\n",
    "- additional_charges\n",
    "- pickup_census_tract\n",
    "- shared_trip_authorized\n",
    "- tip\n",
    "- trip_end_timestamp\n",
    "- trip_miles\n",
    "- trip_seconds\n",
    "- trip_start_timestamp\n",
    "- trip_total\n",
    "- trips_pooled\n",
    "- trip_start_day_of_week"
   ]
  },
  {
   "cell_type": "code",
   "execution_count": null,
   "metadata": {},
   "outputs": [],
   "source": []
  },
  {
   "cell_type": "code",
   "execution_count": null,
   "metadata": {},
   "outputs": [],
   "source": []
  },
  {
   "cell_type": "code",
   "execution_count": null,
   "metadata": {},
   "outputs": [],
   "source": []
  },
  {
   "cell_type": "code",
   "execution_count": null,
   "metadata": {},
   "outputs": [],
   "source": []
  }
 ],
 "metadata": {
  "kernelspec": {
   "display_name": "Python 3",
   "language": "python",
   "name": "python3"
  },
  "language_info": {
   "codemirror_mode": {
    "name": "ipython",
    "version": 3
   },
   "file_extension": ".py",
   "mimetype": "text/x-python",
   "name": "python",
   "nbconvert_exporter": "python",
   "pygments_lexer": "ipython3",
   "version": "3.7.4"
  }
 },
 "nbformat": 4,
 "nbformat_minor": 2
}
